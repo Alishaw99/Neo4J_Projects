{
  "nbformat": 4,
  "nbformat_minor": 0,
  "metadata": {
    "colab": {
      "provenance": [],
      "gpuType": "T4",
      "include_colab_link": true
    },
    "kernelspec": {
      "name": "python3",
      "display_name": "Python 3"
    },
    "language_info": {
      "name": "python"
    },
    "accelerator": "GPU",
    "widgets": {
      "application/vnd.jupyter.widget-state+json": {
        "b4b540c38b7f4e81877b5566f8f3e4c7": {
          "model_module": "yfiles-jupyter-graphs",
          "model_name": "GraphModel",
          "model_module_version": "^1.7.3",
          "state": {
            "_context_pane_mapping": [
              {
                "id": "Neighborhood",
                "title": "Neighborhood"
              },
              {
                "id": "Data",
                "title": "Data"
              },
              {
                "id": "Search",
                "title": "Search"
              },
              {
                "id": "About",
                "title": "About"
              }
            ],
            "_data_importer": "neo4j",
            "_directed": true,
            "_dom_classes": [],
            "_edges": [
              {
                "id": 1152921504606847000,
                "start": 0,
                "end": 4,
                "properties": {
                  "label": "ACTED_IN"
                },
                "label": "ACTED_IN",
                "color": "#607D8B",
                "thickness_factor": 1,
                "directed": true
              },
              {
                "id": 1152921504606847000,
                "start": 2,
                "end": 3,
                "properties": {
                  "label": "ACTED_IN"
                },
                "label": "ACTED_IN",
                "color": "#607D8B",
                "thickness_factor": 1,
                "directed": true
              },
              {
                "id": 6917529027641082000,
                "start": 2,
                "end": 310,
                "properties": {
                  "label": "ACTED_IN"
                },
                "label": "ACTED_IN",
                "color": "#607D8B",
                "thickness_factor": 1,
                "directed": true
              },
              {
                "id": 6917529027641082000,
                "start": 2,
                "end": 373,
                "properties": {
                  "label": "ACTED_IN"
                },
                "label": "ACTED_IN",
                "color": "#607D8B",
                "thickness_factor": 1,
                "directed": true
              },
              {
                "id": 1152923703630102500,
                "start": 5,
                "end": 598,
                "properties": {
                  "label": "IN_GENRE"
                },
                "label": "IN_GENRE",
                "color": "#673AB7",
                "thickness_factor": 1,
                "directed": true
              },
              {
                "id": 1155175503443787800,
                "start": 5,
                "end": 599,
                "properties": {
                  "label": "IN_GENRE"
                },
                "label": "IN_GENRE",
                "color": "#673AB7",
                "thickness_factor": 1,
                "directed": true
              },
              {
                "id": 1157427303257473000,
                "start": 5,
                "end": 600,
                "properties": {
                  "label": "IN_GENRE"
                },
                "label": "IN_GENRE",
                "color": "#673AB7",
                "thickness_factor": 1,
                "directed": true
              },
              {
                "id": 1159679103071158300,
                "start": 5,
                "end": 601,
                "properties": {
                  "label": "IN_GENRE"
                },
                "label": "IN_GENRE",
                "color": "#673AB7",
                "thickness_factor": 1,
                "directed": true
              },
              {
                "id": 1161930902884843500,
                "start": 5,
                "end": 602,
                "properties": {
                  "label": "IN_GENRE"
                },
                "label": "IN_GENRE",
                "color": "#673AB7",
                "thickness_factor": 1,
                "directed": true
              },
              {
                "id": 1152922604118474800,
                "start": 6,
                "end": 5,
                "properties": {
                  "label": "DIRECTED"
                },
                "label": "DIRECTED",
                "color": "#CDDC39",
                "thickness_factor": 1,
                "directed": true
              },
              {
                "id": 1152923703630102500,
                "start": 7,
                "end": 598,
                "properties": {
                  "label": "IN_GENRE"
                },
                "label": "IN_GENRE",
                "color": "#673AB7",
                "thickness_factor": 1,
                "directed": true
              },
              {
                "id": 1155175503443787800,
                "start": 7,
                "end": 600,
                "properties": {
                  "label": "IN_GENRE"
                },
                "label": "IN_GENRE",
                "color": "#673AB7",
                "thickness_factor": 1,
                "directed": true
              },
              {
                "id": 1157427303257473000,
                "start": 7,
                "end": 602,
                "properties": {
                  "label": "IN_GENRE"
                },
                "label": "IN_GENRE",
                "color": "#673AB7",
                "thickness_factor": 1,
                "directed": true
              },
              {
                "id": 1152922604118474800,
                "start": 8,
                "end": 7,
                "properties": {
                  "label": "DIRECTED"
                },
                "label": "DIRECTED",
                "color": "#CDDC39",
                "thickness_factor": 1,
                "directed": true
              },
              {
                "id": 1152923703630102500,
                "start": 9,
                "end": 601,
                "properties": {
                  "label": "IN_GENRE"
                },
                "label": "IN_GENRE",
                "color": "#673AB7",
                "thickness_factor": 1,
                "directed": true
              },
              {
                "id": 1155175503443787800,
                "start": 9,
                "end": 611,
                "properties": {
                  "label": "IN_GENRE"
                },
                "label": "IN_GENRE",
                "color": "#673AB7",
                "thickness_factor": 1,
                "directed": true
              },
              {
                "id": 1152922604118474800,
                "start": 10,
                "end": 9,
                "properties": {
                  "label": "DIRECTED"
                },
                "label": "DIRECTED",
                "color": "#CDDC39",
                "thickness_factor": 1,
                "directed": true
              },
              {
                "id": 1157427303257473000,
                "start": 11,
                "end": 601,
                "properties": {
                  "label": "IN_GENRE"
                },
                "label": "IN_GENRE",
                "color": "#673AB7",
                "thickness_factor": 1,
                "directed": true
              },
              {
                "id": 1152923703630102500,
                "start": 11,
                "end": 611,
                "properties": {
                  "label": "IN_GENRE"
                },
                "label": "IN_GENRE",
                "color": "#673AB7",
                "thickness_factor": 1,
                "directed": true
              },
              {
                "id": 1155175503443787800,
                "start": 11,
                "end": 616,
                "properties": {
                  "label": "IN_GENRE"
                },
                "label": "IN_GENRE",
                "color": "#673AB7",
                "thickness_factor": 1,
                "directed": true
              },
              {
                "id": 1152921504606847000,
                "start": 12,
                "end": 353,
                "properties": {
                  "label": "ACTED_IN"
                },
                "label": "ACTED_IN",
                "color": "#607D8B",
                "thickness_factor": 1,
                "directed": true
              },
              {
                "id": 1152922604118474800,
                "start": 12,
                "end": 11,
                "properties": {
                  "label": "DIRECTED"
                },
                "label": "DIRECTED",
                "color": "#CDDC39",
                "thickness_factor": 1,
                "directed": true
              },
              {
                "id": 1152923703630102500,
                "start": 13,
                "end": 601,
                "properties": {
                  "label": "IN_GENRE"
                },
                "label": "IN_GENRE",
                "color": "#673AB7",
                "thickness_factor": 1,
                "directed": true
              },
              {
                "id": 1152922604118474800,
                "start": 14,
                "end": 13,
                "properties": {
                  "label": "DIRECTED"
                },
                "label": "DIRECTED",
                "color": "#CDDC39",
                "thickness_factor": 1,
                "directed": true
              },
              {
                "id": 1152923703630102500,
                "start": 15,
                "end": 624,
                "properties": {
                  "label": "IN_GENRE"
                },
                "label": "IN_GENRE",
                "color": "#673AB7",
                "thickness_factor": 1,
                "directed": true
              },
              {
                "id": 1155175503443787800,
                "start": 15,
                "end": 625,
                "properties": {
                  "label": "IN_GENRE"
                },
                "label": "IN_GENRE",
                "color": "#673AB7",
                "thickness_factor": 1,
                "directed": true
              },
              {
                "id": 1157427303257473000,
                "start": 15,
                "end": 626,
                "properties": {
                  "label": "IN_GENRE"
                },
                "label": "IN_GENRE",
                "color": "#673AB7",
                "thickness_factor": 1,
                "directed": true
              },
              {
                "id": 1152922604118474800,
                "start": 16,
                "end": 15,
                "properties": {
                  "label": "DIRECTED"
                },
                "label": "DIRECTED",
                "color": "#CDDC39",
                "thickness_factor": 1,
                "directed": true
              },
              {
                "id": 1152923703630102500,
                "start": 17,
                "end": 601,
                "properties": {
                  "label": "IN_GENRE"
                },
                "label": "IN_GENRE",
                "color": "#673AB7",
                "thickness_factor": 1,
                "directed": true
              },
              {
                "id": 1155175503443787800,
                "start": 17,
                "end": 611,
                "properties": {
                  "label": "IN_GENRE"
                },
                "label": "IN_GENRE",
                "color": "#673AB7",
                "thickness_factor": 1,
                "directed": true
              },
              {
                "id": 1152922604118474800,
                "start": 18,
                "end": 17,
                "properties": {
                  "label": "DIRECTED"
                },
                "label": "DIRECTED",
                "color": "#CDDC39",
                "thickness_factor": 1,
                "directed": true
              },
              {
                "id": 1155175503443787800,
                "start": 19,
                "end": 598,
                "properties": {
                  "label": "IN_GENRE"
                },
                "label": "IN_GENRE",
                "color": "#673AB7",
                "thickness_factor": 1,
                "directed": true
              },
              {
                "id": 1152923703630102500,
                "start": 19,
                "end": 600,
                "properties": {
                  "label": "IN_GENRE"
                },
                "label": "IN_GENRE",
                "color": "#673AB7",
                "thickness_factor": 1,
                "directed": true
              },
              {
                "id": 1152922604118474800,
                "start": 20,
                "end": 19,
                "properties": {
                  "label": "DIRECTED"
                },
                "label": "DIRECTED",
                "color": "#CDDC39",
                "thickness_factor": 1,
                "directed": true
              },
              {
                "id": 1152923703630102500,
                "start": 21,
                "end": 624,
                "properties": {
                  "label": "IN_GENRE"
                },
                "label": "IN_GENRE",
                "color": "#673AB7",
                "thickness_factor": 1,
                "directed": true
              },
              {
                "id": 1152922604118474800,
                "start": 22,
                "end": 21,
                "properties": {
                  "label": "DIRECTED"
                },
                "label": "DIRECTED",
                "color": "#CDDC39",
                "thickness_factor": 1,
                "directed": true
              },
              {
                "id": 1152923703630102500,
                "start": 23,
                "end": 598,
                "properties": {
                  "label": "IN_GENRE"
                },
                "label": "IN_GENRE",
                "color": "#673AB7",
                "thickness_factor": 1,
                "directed": true
              },
              {
                "id": 1155175503443787800,
                "start": 23,
                "end": 624,
                "properties": {
                  "label": "IN_GENRE"
                },
                "label": "IN_GENRE",
                "color": "#673AB7",
                "thickness_factor": 1,
                "directed": true
              },
              {
                "id": 1157427303257473000,
                "start": 23,
                "end": 626,
                "properties": {
                  "label": "IN_GENRE"
                },
                "label": "IN_GENRE",
                "color": "#673AB7",
                "thickness_factor": 1,
                "directed": true
              },
              {
                "id": 1152922604118474800,
                "start": 24,
                "end": 23,
                "properties": {
                  "label": "DIRECTED"
                },
                "label": "DIRECTED",
                "color": "#CDDC39",
                "thickness_factor": 1,
                "directed": true
              },
              {
                "id": 1152923703630102500,
                "start": 25,
                "end": 601,
                "properties": {
                  "label": "IN_GENRE"
                },
                "label": "IN_GENRE",
                "color": "#673AB7",
                "thickness_factor": 1,
                "directed": true
              },
              {
                "id": 1155175503443787800,
                "start": 25,
                "end": 611,
                "properties": {
                  "label": "IN_GENRE"
                },
                "label": "IN_GENRE",
                "color": "#673AB7",
                "thickness_factor": 1,
                "directed": true
              },
              {
                "id": 1157427303257473000,
                "start": 25,
                "end": 616,
                "properties": {
                  "label": "IN_GENRE"
                },
                "label": "IN_GENRE",
                "color": "#673AB7",
                "thickness_factor": 1,
                "directed": true
              },
              {
                "id": 1152922604118474800,
                "start": 26,
                "end": 25,
                "properties": {
                  "label": "DIRECTED"
                },
                "label": "DIRECTED",
                "color": "#CDDC39",
                "thickness_factor": 1,
                "directed": true
              },
              {
                "id": 1152923703630102500,
                "start": 27,
                "end": 601,
                "properties": {
                  "label": "IN_GENRE"
                },
                "label": "IN_GENRE",
                "color": "#673AB7",
                "thickness_factor": 1,
                "directed": true
              },
              {
                "id": 1155175503443787800,
                "start": 27,
                "end": 651,
                "properties": {
                  "label": "IN_GENRE"
                },
                "label": "IN_GENRE",
                "color": "#673AB7",
                "thickness_factor": 1,
                "directed": true
              },
              {
                "id": 1152922604118474800,
                "start": 28,
                "end": 27,
                "properties": {
                  "label": "DIRECTED"
                },
                "label": "DIRECTED",
                "color": "#CDDC39",
                "thickness_factor": 1,
                "directed": true
              },
              {
                "id": 1155175503443787800,
                "start": 29,
                "end": 598,
                "properties": {
                  "label": "IN_GENRE"
                },
                "label": "IN_GENRE",
                "color": "#673AB7",
                "thickness_factor": 1,
                "directed": true
              },
              {
                "id": 1157427303257473000,
                "start": 29,
                "end": 599,
                "properties": {
                  "label": "IN_GENRE"
                },
                "label": "IN_GENRE",
                "color": "#673AB7",
                "thickness_factor": 1,
                "directed": true
              },
              {
                "id": 1152923703630102500,
                "start": 29,
                "end": 600,
                "properties": {
                  "label": "IN_GENRE"
                },
                "label": "IN_GENRE",
                "color": "#673AB7",
                "thickness_factor": 1,
                "directed": true
              }
            ],
            "_graph_layout": {},
            "_highlight": [],
            "_license": {},
            "_model_module": "yfiles-jupyter-graphs",
            "_model_module_version": "^1.7.3",
            "_model_name": "GraphModel",
            "_neighborhood": {},
            "_nodes": [
              {
                "id": 0,
                "properties": {
                  "born": 1972,
                  "name": "Tariq Ali",
                  "label": "Person"
                },
                "color": "#2196F3",
                "styles": {},
                "label": "0",
                "scale_factor": 1,
                "type": "#2196F3",
                "size": [
                  55,
                  55
                ],
                "position": [
                  0,
                  0
                ]
              },
              {
                "id": 4,
                "properties": {
                  "release": 2008,
                  "title": "Iron Man",
                  "label": "Movie"
                },
                "color": "#4CAF50",
                "styles": {},
                "label": "4",
                "scale_factor": 1,
                "type": "#4CAF50",
                "size": [
                  55,
                  55
                ],
                "position": [
                  0,
                  0
                ]
              },
              {
                "id": 2,
                "properties": {
                  "born": 1964,
                  "name": "Keanu Reeves",
                  "label": "Person"
                },
                "color": "#2196F3",
                "styles": {},
                "label": "2",
                "scale_factor": 1,
                "type": "#2196F3",
                "size": [
                  55,
                  55
                ],
                "position": [
                  0,
                  0
                ]
              },
              {
                "id": 3,
                "properties": {
                  "release": 1999,
                  "title": "The Matrix",
                  "label": "Movie"
                },
                "color": "#4CAF50",
                "styles": {},
                "label": "3",
                "scale_factor": 1,
                "type": "#4CAF50",
                "size": [
                  55,
                  55
                ],
                "position": [
                  0,
                  0
                ]
              },
              {
                "id": 310,
                "properties": {
                  "imdbRating": 5.5,
                  "id": "172",
                  "title": "Johnny Mnemonic",
                  "released": "1995-05-26T00:00:00.000000",
                  "label": "Movie"
                },
                "color": "#4CAF50",
                "styles": {},
                "label": "172",
                "scale_factor": 1,
                "type": "#4CAF50",
                "size": [
                  55,
                  55
                ],
                "position": [
                  0,
                  0
                ]
              },
              {
                "id": 373,
                "properties": {
                  "imdbRating": 6.6,
                  "id": "207",
                  "title": "Walk in the Clouds, A",
                  "released": "1995-08-11T00:00:00.000000",
                  "label": "Movie"
                },
                "color": "#4CAF50",
                "styles": {},
                "label": "207",
                "scale_factor": 1,
                "type": "#4CAF50",
                "size": [
                  55,
                  55
                ],
                "position": [
                  0,
                  0
                ]
              },
              {
                "id": 5,
                "properties": {
                  "imdbRating": 8.3,
                  "id": "1",
                  "title": "Toy Story",
                  "released": "1995-11-22T00:00:00.000000",
                  "label": "Movie"
                },
                "color": "#4CAF50",
                "styles": {},
                "label": "1",
                "scale_factor": 1,
                "type": "#4CAF50",
                "size": [
                  55,
                  55
                ],
                "position": [
                  0,
                  0
                ]
              },
              {
                "id": 598,
                "properties": {
                  "name": "Adventure",
                  "label": "Genre"
                },
                "color": "#F44336",
                "styles": {},
                "label": "598",
                "scale_factor": 1,
                "type": "#F44336",
                "size": [
                  55,
                  55
                ],
                "position": [
                  0,
                  0
                ]
              },
              {
                "id": 599,
                "properties": {
                  "name": "Animation",
                  "label": "Genre"
                },
                "color": "#F44336",
                "styles": {},
                "label": "599",
                "scale_factor": 1,
                "type": "#F44336",
                "size": [
                  55,
                  55
                ],
                "position": [
                  0,
                  0
                ]
              },
              {
                "id": 600,
                "properties": {
                  "name": "Children",
                  "label": "Genre"
                },
                "color": "#F44336",
                "styles": {},
                "label": "600",
                "scale_factor": 1,
                "type": "#F44336",
                "size": [
                  55,
                  55
                ],
                "position": [
                  0,
                  0
                ]
              },
              {
                "id": 601,
                "properties": {
                  "name": "Comedy",
                  "label": "Genre"
                },
                "color": "#F44336",
                "styles": {},
                "label": "601",
                "scale_factor": 1,
                "type": "#F44336",
                "size": [
                  55,
                  55
                ],
                "position": [
                  0,
                  0
                ]
              },
              {
                "id": 602,
                "properties": {
                  "name": "Fantasy",
                  "label": "Genre"
                },
                "color": "#F44336",
                "styles": {},
                "label": "602",
                "scale_factor": 1,
                "type": "#F44336",
                "size": [
                  55,
                  55
                ],
                "position": [
                  0,
                  0
                ]
              },
              {
                "id": 6,
                "properties": {
                  "name": "John Lasseter",
                  "label": "Person"
                },
                "color": "#2196F3",
                "styles": {},
                "label": "6",
                "scale_factor": 1,
                "type": "#2196F3",
                "size": [
                  55,
                  55
                ],
                "position": [
                  0,
                  0
                ]
              },
              {
                "id": 7,
                "properties": {
                  "imdbRating": 6.9,
                  "id": "2",
                  "title": "Jumanji",
                  "released": "1995-12-15T00:00:00.000000",
                  "label": "Movie"
                },
                "color": "#4CAF50",
                "styles": {},
                "label": "2",
                "scale_factor": 1,
                "type": "#4CAF50",
                "size": [
                  55,
                  55
                ],
                "position": [
                  0,
                  0
                ]
              },
              {
                "id": 8,
                "properties": {
                  "name": "Joe Johnston",
                  "label": "Person"
                },
                "color": "#2196F3",
                "styles": {},
                "label": "8",
                "scale_factor": 1,
                "type": "#2196F3",
                "size": [
                  55,
                  55
                ],
                "position": [
                  0,
                  0
                ]
              },
              {
                "id": 9,
                "properties": {
                  "imdbRating": 6.6,
                  "id": "3",
                  "title": "Grumpier Old Men",
                  "released": "1995-12-22T00:00:00.000000",
                  "label": "Movie"
                },
                "color": "#4CAF50",
                "styles": {},
                "label": "3",
                "scale_factor": 1,
                "type": "#4CAF50",
                "size": [
                  55,
                  55
                ],
                "position": [
                  0,
                  0
                ]
              },
              {
                "id": 611,
                "properties": {
                  "name": "Romance",
                  "label": "Genre"
                },
                "color": "#F44336",
                "styles": {},
                "label": "611",
                "scale_factor": 1,
                "type": "#F44336",
                "size": [
                  55,
                  55
                ],
                "position": [
                  0,
                  0
                ]
              },
              {
                "id": 10,
                "properties": {
                  "name": "Howard Deutch",
                  "label": "Person"
                },
                "color": "#2196F3",
                "styles": {},
                "label": "10",
                "scale_factor": 1,
                "type": "#2196F3",
                "size": [
                  55,
                  55
                ],
                "position": [
                  0,
                  0
                ]
              },
              {
                "id": 11,
                "properties": {
                  "imdbRating": 5.6,
                  "id": "4",
                  "title": "Waiting to Exhale",
                  "released": "1995-12-22T00:00:00.000000",
                  "label": "Movie"
                },
                "color": "#4CAF50",
                "styles": {},
                "label": "4",
                "scale_factor": 1,
                "type": "#4CAF50",
                "size": [
                  55,
                  55
                ],
                "position": [
                  0,
                  0
                ]
              },
              {
                "id": 616,
                "properties": {
                  "name": "Drama",
                  "label": "Genre"
                },
                "color": "#F44336",
                "styles": {},
                "label": "616",
                "scale_factor": 1,
                "type": "#F44336",
                "size": [
                  55,
                  55
                ],
                "position": [
                  0,
                  0
                ]
              },
              {
                "id": 12,
                "properties": {
                  "name": "Forest Whitaker",
                  "label": "Person"
                },
                "color": "#2196F3",
                "styles": {},
                "label": "12",
                "scale_factor": 1,
                "type": "#2196F3",
                "size": [
                  55,
                  55
                ],
                "position": [
                  0,
                  0
                ]
              },
              {
                "id": 353,
                "properties": {
                  "imdbRating": 5.8,
                  "id": "196",
                  "title": "Species",
                  "released": "1995-07-07T00:00:00.000000",
                  "label": "Movie"
                },
                "color": "#4CAF50",
                "styles": {},
                "label": "196",
                "scale_factor": 1,
                "type": "#4CAF50",
                "size": [
                  55,
                  55
                ],
                "position": [
                  0,
                  0
                ]
              },
              {
                "id": 13,
                "properties": {
                  "imdbRating": 5.9,
                  "id": "5",
                  "title": "Father of the Bride Part II",
                  "released": "1995-12-08T00:00:00.000000",
                  "label": "Movie"
                },
                "color": "#4CAF50",
                "styles": {},
                "label": "5",
                "scale_factor": 1,
                "type": "#4CAF50",
                "size": [
                  55,
                  55
                ],
                "position": [
                  0,
                  0
                ]
              },
              {
                "id": 14,
                "properties": {
                  "name": "Charles Shyer",
                  "label": "Person"
                },
                "color": "#2196F3",
                "styles": {},
                "label": "14",
                "scale_factor": 1,
                "type": "#2196F3",
                "size": [
                  55,
                  55
                ],
                "position": [
                  0,
                  0
                ]
              },
              {
                "id": 15,
                "properties": {
                  "imdbRating": 8.2,
                  "id": "6",
                  "title": "Heat",
                  "released": "1995-12-15T00:00:00.000000",
                  "label": "Movie"
                },
                "color": "#4CAF50",
                "styles": {},
                "label": "6",
                "scale_factor": 1,
                "type": "#4CAF50",
                "size": [
                  55,
                  55
                ],
                "position": [
                  0,
                  0
                ]
              },
              {
                "id": 624,
                "properties": {
                  "name": "Action",
                  "label": "Genre"
                },
                "color": "#F44336",
                "styles": {},
                "label": "624",
                "scale_factor": 1,
                "type": "#F44336",
                "size": [
                  55,
                  55
                ],
                "position": [
                  0,
                  0
                ]
              },
              {
                "id": 625,
                "properties": {
                  "name": "Crime",
                  "label": "Genre"
                },
                "color": "#F44336",
                "styles": {},
                "label": "625",
                "scale_factor": 1,
                "type": "#F44336",
                "size": [
                  55,
                  55
                ],
                "position": [
                  0,
                  0
                ]
              },
              {
                "id": 626,
                "properties": {
                  "name": "Thriller",
                  "label": "Genre"
                },
                "color": "#F44336",
                "styles": {},
                "label": "626",
                "scale_factor": 1,
                "type": "#F44336",
                "size": [
                  55,
                  55
                ],
                "position": [
                  0,
                  0
                ]
              },
              {
                "id": 16,
                "properties": {
                  "name": "Michael Mann",
                  "label": "Person"
                },
                "color": "#2196F3",
                "styles": {},
                "label": "16",
                "scale_factor": 1,
                "type": "#2196F3",
                "size": [
                  55,
                  55
                ],
                "position": [
                  0,
                  0
                ]
              },
              {
                "id": 17,
                "properties": {
                  "imdbRating": 6.2,
                  "id": "7",
                  "title": "Sabrina",
                  "released": "1995-12-15T00:00:00.000000",
                  "label": "Movie"
                },
                "color": "#4CAF50",
                "styles": {},
                "label": "7",
                "scale_factor": 1,
                "type": "#4CAF50",
                "size": [
                  55,
                  55
                ],
                "position": [
                  0,
                  0
                ]
              },
              {
                "id": 18,
                "properties": {
                  "name": "Sydney Pollack",
                  "label": "Person"
                },
                "color": "#2196F3",
                "styles": {},
                "label": "18",
                "scale_factor": 1,
                "type": "#2196F3",
                "size": [
                  55,
                  55
                ],
                "position": [
                  0,
                  0
                ]
              },
              {
                "id": 19,
                "properties": {
                  "imdbRating": 5.6,
                  "id": "8",
                  "title": "Tom and Huck",
                  "released": "1995-12-22T00:00:00.000000",
                  "label": "Movie"
                },
                "color": "#4CAF50",
                "styles": {},
                "label": "8",
                "scale_factor": 1,
                "type": "#4CAF50",
                "size": [
                  55,
                  55
                ],
                "position": [
                  0,
                  0
                ]
              },
              {
                "id": 20,
                "properties": {
                  "name": "Peter Hewitt",
                  "label": "Person"
                },
                "color": "#2196F3",
                "styles": {},
                "label": "20",
                "scale_factor": 1,
                "type": "#2196F3",
                "size": [
                  55,
                  55
                ],
                "position": [
                  0,
                  0
                ]
              },
              {
                "id": 21,
                "properties": {
                  "imdbRating": 5.7,
                  "id": "9",
                  "title": "Sudden Death",
                  "released": "1995-12-22T00:00:00.000000",
                  "label": "Movie"
                },
                "color": "#4CAF50",
                "styles": {},
                "label": "9",
                "scale_factor": 1,
                "type": "#4CAF50",
                "size": [
                  55,
                  55
                ],
                "position": [
                  0,
                  0
                ]
              },
              {
                "id": 22,
                "properties": {
                  "name": "Peter Hyams",
                  "label": "Person"
                },
                "color": "#2196F3",
                "styles": {},
                "label": "22",
                "scale_factor": 1,
                "type": "#2196F3",
                "size": [
                  55,
                  55
                ],
                "position": [
                  0,
                  0
                ]
              },
              {
                "id": 23,
                "properties": {
                  "imdbRating": 7.2,
                  "id": "10",
                  "title": "GoldenEye",
                  "released": "1995-11-17T00:00:00.000000",
                  "label": "Movie"
                },
                "color": "#4CAF50",
                "styles": {},
                "label": "10",
                "scale_factor": 1,
                "type": "#4CAF50",
                "size": [
                  55,
                  55
                ],
                "position": [
                  0,
                  0
                ]
              },
              {
                "id": 24,
                "properties": {
                  "name": "Martin Campbell",
                  "label": "Person"
                },
                "color": "#2196F3",
                "styles": {},
                "label": "24",
                "scale_factor": 1,
                "type": "#2196F3",
                "size": [
                  55,
                  55
                ],
                "position": [
                  0,
                  0
                ]
              },
              {
                "id": 25,
                "properties": {
                  "imdbRating": 6.8,
                  "id": "11",
                  "title": "American President, The",
                  "released": "1995-11-17T00:00:00.000000",
                  "label": "Movie"
                },
                "color": "#4CAF50",
                "styles": {},
                "label": "11",
                "scale_factor": 1,
                "type": "#4CAF50",
                "size": [
                  55,
                  55
                ],
                "position": [
                  0,
                  0
                ]
              },
              {
                "id": 26,
                "properties": {
                  "name": "Rob Reiner",
                  "label": "Person"
                },
                "color": "#2196F3",
                "styles": {},
                "label": "26",
                "scale_factor": 1,
                "type": "#2196F3",
                "size": [
                  55,
                  55
                ],
                "position": [
                  0,
                  0
                ]
              },
              {
                "id": 27,
                "properties": {
                  "imdbRating": 5.8,
                  "id": "12",
                  "title": "Dracula: Dead and Loving It",
                  "released": "1995-12-22T00:00:00.000000",
                  "label": "Movie"
                },
                "color": "#4CAF50",
                "styles": {},
                "label": "12",
                "scale_factor": 1,
                "type": "#4CAF50",
                "size": [
                  55,
                  55
                ],
                "position": [
                  0,
                  0
                ]
              },
              {
                "id": 651,
                "properties": {
                  "name": "Horror",
                  "label": "Genre"
                },
                "color": "#F44336",
                "styles": {},
                "label": "651",
                "scale_factor": 1,
                "type": "#F44336",
                "size": [
                  55,
                  55
                ],
                "position": [
                  0,
                  0
                ]
              },
              {
                "id": 28,
                "properties": {
                  "name": "Mel Brooks",
                  "label": "Person"
                },
                "color": "#2196F3",
                "styles": {},
                "label": "28",
                "scale_factor": 1,
                "type": "#2196F3",
                "size": [
                  55,
                  55
                ],
                "position": [
                  0,
                  0
                ]
              },
              {
                "id": 29,
                "properties": {
                  "imdbRating": 7.1,
                  "id": "13",
                  "title": "Balto",
                  "released": "1995-12-22T00:00:00.000000",
                  "label": "Movie"
                },
                "color": "#4CAF50",
                "styles": {},
                "label": "13",
                "scale_factor": 1,
                "type": "#4CAF50",
                "size": [
                  55,
                  55
                ],
                "position": [
                  0,
                  0
                ]
              }
            ],
            "_overview": {
              "enabled": null,
              "overview_set": false
            },
            "_selected_graph": [
              [],
              []
            ],
            "_sidebar": {
              "enabled": true,
              "start_with": ""
            },
            "_view_count": null,
            "_view_module": "yfiles-jupyter-graphs",
            "_view_module_version": "^1.7.3",
            "_view_name": "GraphView",
            "layout": "IPY_MODEL_090eaa8f84954dfe94f0e345e726d307",
            "tabbable": null,
            "tooltip": null
          }
        },
        "090eaa8f84954dfe94f0e345e726d307": {
          "model_module": "@jupyter-widgets/base",
          "model_name": "LayoutModel",
          "model_module_version": "2.0.0",
          "state": {
            "_model_module": "@jupyter-widgets/base",
            "_model_module_version": "2.0.0",
            "_model_name": "LayoutModel",
            "_view_count": null,
            "_view_module": "@jupyter-widgets/base",
            "_view_module_version": "2.0.0",
            "_view_name": "LayoutView",
            "align_content": null,
            "align_items": null,
            "align_self": null,
            "border_bottom": null,
            "border_left": null,
            "border_right": null,
            "border_top": null,
            "bottom": null,
            "display": null,
            "flex": null,
            "flex_flow": null,
            "grid_area": null,
            "grid_auto_columns": null,
            "grid_auto_flow": null,
            "grid_auto_rows": null,
            "grid_column": null,
            "grid_gap": null,
            "grid_row": null,
            "grid_template_areas": null,
            "grid_template_columns": null,
            "grid_template_rows": null,
            "height": "800px",
            "justify_content": null,
            "justify_items": null,
            "left": null,
            "margin": null,
            "max_height": null,
            "max_width": null,
            "min_height": null,
            "min_width": null,
            "object_fit": null,
            "object_position": null,
            "order": null,
            "overflow": null,
            "padding": null,
            "right": null,
            "top": null,
            "visibility": null,
            "width": "100%"
          }
        }
      }
    }
  },
  "cells": [
    {
      "cell_type": "markdown",
      "metadata": {
        "id": "view-in-github",
        "colab_type": "text"
      },
      "source": [
        "<a href=\"https://colab.research.google.com/github/Alishaw99/Neo4J_Projects/blob/main/RAG_With_Knowledge_graph(Neo4j).ipynb\" target=\"_parent\"><img src=\"https://colab.research.google.com/assets/colab-badge.svg\" alt=\"Open In Colab\"/></a>"
      ]
    },
    {
      "cell_type": "markdown",
      "source": [
        "# langchain-core\n",
        "\n",
        "contains simple, core abstractions that have emerged as a standard, as well as LangChain Expression Language as a way to compose these components together. This package is now at version 0.1 and all breaking changes will be accompanied by a minor version bump.\n",
        "\n",
        "# langchain-community\n",
        "contains all third party integrations. We will work with partners on splitting key integrations out into standalone packages over the next month.\n",
        "\n",
        "# langchain\n",
        "contains higher-level and use-case specific chains, agents, and retrieval algorithms that are at the core of your application's cognitive architecture. We are targeting a launch of a stable 0.1 release for langchain in early January.#"
      ],
      "metadata": {
        "id": "xB3OyiU14byv"
      }
    },
    {
      "cell_type": "code",
      "source": [
        "%pip install --upgrade --quiet  langchain langchain-community langchain-openai langchain-experimental neo4j wikipedia tiktoken yfiles_jupyter_graphs"
      ],
      "metadata": {
        "colab": {
          "base_uri": "https://localhost:8080/"
        },
        "id": "usWcdmOr7GAH",
        "outputId": "a8bab4c6-4b49-467e-e965-6eeb3c4d5f95"
      },
      "execution_count": 1,
      "outputs": [
        {
          "output_type": "stream",
          "name": "stdout",
          "text": [
            "  Preparing metadata (setup.py) ... \u001b[?25l\u001b[?25hdone\n",
            "\u001b[2K     \u001b[90m━━━━━━━━━━━━━━━━━━━━━━━━━━━━━━━━━━━━━━━━\u001b[0m \u001b[32m50.4/50.4 kB\u001b[0m \u001b[31m1.8 MB/s\u001b[0m eta \u001b[36m0:00:00\u001b[0m\n",
            "\u001b[2K   \u001b[90m━━━━━━━━━━━━━━━━━━━━━━━━━━━━━━━━━━━━━━━━\u001b[0m \u001b[32m990.6/990.6 kB\u001b[0m \u001b[31m40.2 MB/s\u001b[0m eta \u001b[36m0:00:00\u001b[0m\n",
            "\u001b[2K   \u001b[90m━━━━━━━━━━━━━━━━━━━━━━━━━━━━━━━━━━━━━━━━\u001b[0m \u001b[32m2.3/2.3 MB\u001b[0m \u001b[31m69.5 MB/s\u001b[0m eta \u001b[36m0:00:00\u001b[0m\n",
            "\u001b[2K   \u001b[90m━━━━━━━━━━━━━━━━━━━━━━━━━━━━━━━━━━━━━━━━\u001b[0m \u001b[32m48.2/48.2 kB\u001b[0m \u001b[31m4.2 MB/s\u001b[0m eta \u001b[36m0:00:00\u001b[0m\n",
            "\u001b[2K   \u001b[90m━━━━━━━━━━━━━━━━━━━━━━━━━━━━━━━━━━━━━━━━\u001b[0m \u001b[32m204.3/204.3 kB\u001b[0m \u001b[31m11.6 MB/s\u001b[0m eta \u001b[36m0:00:00\u001b[0m\n",
            "\u001b[2K   \u001b[90m━━━━━━━━━━━━━━━━━━━━━━━━━━━━━━━━━━━━━━━━\u001b[0m \u001b[32m293.7/293.7 kB\u001b[0m \u001b[31m16.8 MB/s\u001b[0m eta \u001b[36m0:00:00\u001b[0m\n",
            "\u001b[2K   \u001b[90m━━━━━━━━━━━━━━━━━━━━━━━━━━━━━━━━━━━━━━━━\u001b[0m \u001b[32m1.1/1.1 MB\u001b[0m \u001b[31m37.1 MB/s\u001b[0m eta \u001b[36m0:00:00\u001b[0m\n",
            "\u001b[2K   \u001b[90m━━━━━━━━━━━━━━━━━━━━━━━━━━━━━━━━━━━━━━━━\u001b[0m \u001b[32m15.5/15.5 MB\u001b[0m \u001b[31m46.8 MB/s\u001b[0m eta \u001b[36m0:00:00\u001b[0m\n",
            "\u001b[2K   \u001b[90m━━━━━━━━━━━━━━━━━━━━━━━━━━━━━━━━━━━━━━━━\u001b[0m \u001b[32m139.4/139.4 kB\u001b[0m \u001b[31m14.8 MB/s\u001b[0m eta \u001b[36m0:00:00\u001b[0m\n",
            "\u001b[2K   \u001b[90m━━━━━━━━━━━━━━━━━━━━━━━━━━━━━━━━━━━━━━━━\u001b[0m \u001b[32m379.9/379.9 kB\u001b[0m \u001b[31m29.8 MB/s\u001b[0m eta \u001b[36m0:00:00\u001b[0m\n",
            "\u001b[2K   \u001b[90m━━━━━━━━━━━━━━━━━━━━━━━━━━━━━━━━━━━━━━━━\u001b[0m \u001b[32m140.1/140.1 kB\u001b[0m \u001b[31m13.4 MB/s\u001b[0m eta \u001b[36m0:00:00\u001b[0m\n",
            "\u001b[2K   \u001b[90m━━━━━━━━━━━━━━━━━━━━━━━━━━━━━━━━━━━━━━━━\u001b[0m \u001b[32m335.9/335.9 kB\u001b[0m \u001b[31m29.3 MB/s\u001b[0m eta \u001b[36m0:00:00\u001b[0m\n",
            "\u001b[2K   \u001b[90m━━━━━━━━━━━━━━━━━━━━━━━━━━━━━━━━━━━━━━━━\u001b[0m \u001b[32m75.6/75.6 kB\u001b[0m \u001b[31m7.0 MB/s\u001b[0m eta \u001b[36m0:00:00\u001b[0m\n",
            "\u001b[2K   \u001b[90m━━━━━━━━━━━━━━━━━━━━━━━━━━━━━━━━━━━━━━━━\u001b[0m \u001b[32m77.9/77.9 kB\u001b[0m \u001b[31m7.3 MB/s\u001b[0m eta \u001b[36m0:00:00\u001b[0m\n",
            "\u001b[2K   \u001b[90m━━━━━━━━━━━━━━━━━━━━━━━━━━━━━━━━━━━━━━━━\u001b[0m \u001b[32m49.2/49.2 kB\u001b[0m \u001b[31m4.5 MB/s\u001b[0m eta \u001b[36m0:00:00\u001b[0m\n",
            "\u001b[2K   \u001b[90m━━━━━━━━━━━━━━━━━━━━━━━━━━━━━━━━━━━━━━━━\u001b[0m \u001b[32m141.1/141.1 kB\u001b[0m \u001b[31m13.9 MB/s\u001b[0m eta \u001b[36m0:00:00\u001b[0m\n",
            "\u001b[2K   \u001b[90m━━━━━━━━━━━━━━━━━━━━━━━━━━━━━━━━━━━━━━━━\u001b[0m \u001b[32m2.3/2.3 MB\u001b[0m \u001b[31m74.2 MB/s\u001b[0m eta \u001b[36m0:00:00\u001b[0m\n",
            "\u001b[2K   \u001b[90m━━━━━━━━━━━━━━━━━━━━━━━━━━━━━━━━━━━━━━━━\u001b[0m \u001b[32m58.3/58.3 kB\u001b[0m \u001b[31m4.7 MB/s\u001b[0m eta \u001b[36m0:00:00\u001b[0m\n",
            "\u001b[?25h  Building wheel for wikipedia (setup.py) ... \u001b[?25l\u001b[?25hdone\n"
          ]
        }
      ]
    },
    {
      "cell_type": "code",
      "source": [
        "from langchain_core.runnables import (\n",
        "    RunnableBranch,\n",
        "    RunnableLambda,\n",
        "    RunnableParallel,\n",
        "    RunnablePassthrough,\n",
        ")"
      ],
      "metadata": {
        "id": "q8EzdaTJFTbx"
      },
      "execution_count": 2,
      "outputs": []
    },
    {
      "cell_type": "code",
      "source": [
        "from langchain_core.prompts import ChatPromptTemplate\n",
        "from langchain_core.prompts.prompt import PromptTemplate"
      ],
      "metadata": {
        "id": "vKkxxyasFWPh"
      },
      "execution_count": 3,
      "outputs": []
    },
    {
      "cell_type": "code",
      "source": [
        "from google.colab import userdata\n",
        "OPENAI_API_KEY=userdata.get('OPENAI_API_KEY')"
      ],
      "metadata": {
        "id": "SksHz3Q356JQ"
      },
      "execution_count": 4,
      "outputs": []
    },
    {
      "cell_type": "code",
      "source": [
        "from typing import Tuple, List, Optional"
      ],
      "metadata": {
        "id": "GCEgNy7LFXS4"
      },
      "execution_count": 5,
      "outputs": []
    },
    {
      "cell_type": "code",
      "source": [
        "from langchain_core.messages import AIMessage, HumanMessage\n",
        "from langchain_core.output_parsers import StrOutputParser"
      ],
      "metadata": {
        "id": "ymZquwggFaNr"
      },
      "execution_count": 6,
      "outputs": []
    },
    {
      "cell_type": "code",
      "source": [
        "from langchain_core.runnables import ConfigurableField"
      ],
      "metadata": {
        "id": "nitfT-ktFaQQ"
      },
      "execution_count": 7,
      "outputs": []
    },
    {
      "cell_type": "code",
      "source": [
        "from yfiles_jupyter_graphs import GraphWidget\n",
        "from neo4j import GraphDatabase\n"
      ],
      "metadata": {
        "id": "fzOPupw0FaSy"
      },
      "execution_count": 8,
      "outputs": []
    },
    {
      "cell_type": "code",
      "source": [
        "import os"
      ],
      "metadata": {
        "id": "g6kjt1HkFaVZ"
      },
      "execution_count": 9,
      "outputs": []
    },
    {
      "cell_type": "code",
      "source": [
        "try:\n",
        "  import google.colab\n",
        "  from google.colab import output\n",
        "  output.enable_custom_widget_manager()\n",
        "except:\n",
        "  pass"
      ],
      "metadata": {
        "id": "IR5TLMjpFhE-"
      },
      "execution_count": 10,
      "outputs": []
    },
    {
      "cell_type": "code",
      "source": [
        "from langchain_community.vectorstores import Neo4jVector"
      ],
      "metadata": {
        "id": "pSgOwI9SFhHr"
      },
      "execution_count": 11,
      "outputs": []
    },
    {
      "cell_type": "code",
      "source": [
        "from google.colab import userdata\n",
        "OPENAI_API_KEY=userdata.get('OPENAI_API_KEY')"
      ],
      "metadata": {
        "id": "lyOvwiijFlQF"
      },
      "execution_count": 12,
      "outputs": []
    },
    {
      "cell_type": "code",
      "source": [
        "# NEO4J_URI=\"neo4j+s:/s.neo4j.io\"\n",
        "# NEO4J_USERNAME=\"neo4j\"\n",
        "# NEO4J_PASSWORD=\"\""
      ],
      "metadata": {
        "id": "YiKFX23n4tl3"
      },
      "execution_count": 13,
      "outputs": []
    },
    {
      "cell_type": "code",
      "source": [
        "os.environ[\"OPENAI_API_KEY\"] = OPENAI_API_KEY\n",
        "os.environ[\"NEO4J_URI\"] = NEO4J_URI\n",
        "os.environ[\"NEO4J_USERNAME\"] = NEO4J_USERNAME\n",
        "os.environ[\"NEO4J_PASSWORD\"] = NEO4J_PASSWORD"
      ],
      "metadata": {
        "id": "gHiqiwau7Tat"
      },
      "execution_count": 14,
      "outputs": []
    },
    {
      "cell_type": "code",
      "source": [
        "from langchain_community.graphs import Neo4jGraph"
      ],
      "metadata": {
        "id": "zpIPagYu6BAp"
      },
      "execution_count": 15,
      "outputs": []
    },
    {
      "cell_type": "code",
      "source": [
        "graph = Neo4jGraph()"
      ],
      "metadata": {
        "id": "0xzi4bRD6Bx9"
      },
      "execution_count": 16,
      "outputs": []
    },
    {
      "cell_type": "code",
      "source": [
        "from langchain.document_loaders import WikipediaLoader\n",
        "raw_documents = WikipediaLoader(query=\"Hazrat Umar\").load()"
      ],
      "metadata": {
        "id": "XKqtMDVY6WwW"
      },
      "execution_count": 17,
      "outputs": []
    },
    {
      "cell_type": "code",
      "source": [
        "len(raw_documents)"
      ],
      "metadata": {
        "colab": {
          "base_uri": "https://localhost:8080/"
        },
        "id": "ACWeDt0O7yc2",
        "outputId": "3e060841-4c59-4adf-bece-34d0ea6e7f43"
      },
      "execution_count": 18,
      "outputs": [
        {
          "output_type": "execute_result",
          "data": {
            "text/plain": [
              "25"
            ]
          },
          "metadata": {},
          "execution_count": 18
        }
      ]
    },
    {
      "cell_type": "code",
      "source": [
        "raw_documents[:3]"
      ],
      "metadata": {
        "colab": {
          "base_uri": "https://localhost:8080/"
        },
        "id": "skFy3n30732l",
        "outputId": "c1d124cb-5c72-4262-9616-dd8277c6bb0d"
      },
      "execution_count": 19,
      "outputs": [
        {
          "output_type": "execute_result",
          "data": {
            "text/plain": [
              "[Document(metadata={'title': 'Umar', 'summary': \"Umar ibn al-Khattab (Arabic: عُمَر بْن ٱلْخَطَّاب, romanized: ʿUmar ibn al-Khaṭṭāb; c.\\u2009582/583 – 644), also spelled Omar, was the second Rashidun caliph, ruling from August 634, when he succeeded Abu Bakr (r.\\u2009632–634) as the second caliph, until his assassination in 644. Umar was a senior companion and father-in-law of the Islamic prophet Muhammad.\\nUmar initially opposed Muhammad, his distant Qurayshite kinsman and later son-in-law. Following his conversion to Islam in 616, he became the first Muslim to openly pray at the Kaaba. Umar participated in almost all battles and expeditions under Muhammad, who bestowed the title al-Fārūq upon him, for his judgements. After Muhammad's death in June 632, Umar pledged allegiance to Abu Bakr (r.\\u2009632–634) as the first caliph and served as the closest adviser to the latter until August 634, when the dying Abu Bakr nominated Umar as his successor.\\nUnder Umar, the caliphate expanded at an unprecedented rate, conquering the Sasanian Empire and more than two-thirds of the Byzantine Empire. His attacks against the Sasanian Empire resulted in the conquest of Persia in less than two years (642–644). According to Jewish tradition, Umar set aside the Christian ban on Jews and allowed them into Jerusalem and to worship. Umar was assassinated by the Persian slave Abu Lu'lu'a Firuz in 644.\\nUmar is generally viewed by historians to be one of the most powerful and influential Muslim caliphs in history. He is revered in the Sunni Islamic tradition as a great just ruler and paragon of Islamic virtues, and some hadiths identify him as the second greatest of the Sahabah after Abu Bakr. However, he is viewed negatively in the Twelver Shia tradition.\", 'source': 'https://en.wikipedia.org/wiki/Umar'}, page_content='Umar ibn al-Khattab (Arabic: عُمَر بْن ٱلْخَطَّاب, romanized: ʿUmar ibn al-Khaṭṭāb; c.\\u2009582/583 – 644), also spelled Omar, was the second Rashidun caliph, ruling from August 634, when he succeeded Abu Bakr (r.\\u2009632–634) as the second caliph, until his assassination in 644. Umar was a senior companion and father-in-law of the Islamic prophet Muhammad.\\nUmar initially opposed Muhammad, his distant Qurayshite kinsman and later son-in-law. Following his conversion to Islam in 616, he became the first Muslim to openly pray at the Kaaba. Umar participated in almost all battles and expeditions under Muhammad, who bestowed the title al-Fārūq upon him, for his judgements. After Muhammad\\'s death in June 632, Umar pledged allegiance to Abu Bakr (r.\\u2009632–634) as the first caliph and served as the closest adviser to the latter until August 634, when the dying Abu Bakr nominated Umar as his successor.\\nUnder Umar, the caliphate expanded at an unprecedented rate, conquering the Sasanian Empire and more than two-thirds of the Byzantine Empire. His attacks against the Sasanian Empire resulted in the conquest of Persia in less than two years (642–644). According to Jewish tradition, Umar set aside the Christian ban on Jews and allowed them into Jerusalem and to worship. Umar was assassinated by the Persian slave Abu Lu\\'lu\\'a Firuz in 644.\\nUmar is generally viewed by historians to be one of the most powerful and influential Muslim caliphs in history. He is revered in the Sunni Islamic tradition as a great just ruler and paragon of Islamic virtues, and some hadiths identify him as the second greatest of the Sahabah after Abu Bakr. However, he is viewed negatively in the Twelver Shia tradition.\\n\\n\\n== Early life ==\\nUmar was born in Mecca to the Banu Adi clan, which was responsible for arbitration among the tribes. His father was Khattab ibn Nufayl and his mother was Hantama bint Hisham, from the tribe of Banu Makhzum. In his youth he used to tend to his father\\'s camels in the plains near Mecca. His merchant father was famed for his intelligence among his tribe. Umar himself said: \"My father, al-Khattab, was a ruthless man. He used to make me work hard; if I didn\\'t work he used to beat me and he used to work me to exhaustion.\"\\nDespite literacy being uncommon in pre-Islamic Arabia, Umar learned to read and write in his youth. Though not a poet himself, he developed a love for poetry and literature. According to the tradition of Quraish, while still in his teenage years, Umar learned martial arts, horse riding and wrestling. He was tall, physically powerful and a renowned wrestler. He was also a gifted orator who succeeded his father as an arbitrator among the tribes.\\nUmar became a merchant and made several journeys to Rome and Persia, where he is said to have met various scholars and analyzed Roman and Persian societies. As a merchant he was unsuccessful. Like others around him, Umar was fond of drinking in his pre-Islamic days.\\n\\n\\n== Early military career ==\\n\\n\\n=== Opposition to Islam ===\\nIn 610, Muhammad started preaching the message of Islam. However, like many others in Mecca, Umar opposed Islam and even threatened to kill Muhammad. He resolved to defend the traditional polytheistic religion of Arabia. He was adamant and cruel in opposing Muhammad, and very prominent in persecuting Muslims. He recommended Muhammad\\'s death. He firmly believed in the unity of the Quraish and saw the new faith of Islam as a cause of division and discord.\\nDue to persecution, Muhammad ordered some of his followers to migrate to Abyssinia. When a small group of Muslims migrated, Umar became worried about the future unity of the Quraish and decided to have Muhammad assassinated.\\n\\n\\n=== Conversion to Islam and service under Muhammad ===\\nUmar converted to Islam in 616, one year after the Migration to Abyssinia.\\nThe story was recounted in Ibn Ishaq\\'s Sīrah. On his way to murder Muhammad, Umar met his best friend Nu\\'aym ibn Abd Allah who had secretly converted to Islam but had not to'),\n",
              " Document(metadata={'title': 'Muslim conquest of Persia', 'summary': 'The Muslim conquest of Persia, also called the Muslim conquest of Iran, the Arab conquest of Persia, or the Arab conquest of Iran, was a major military campaign undertaken by the Rashidun Caliphate between 632 and 654. As part of the early Muslim conquests, which had begun under Muhammad in 622, it led to the fall of the Sasanian Empire and the eventual decline of Zoroastrianism, which had been predominant throughout Persia as the nation\\'s official religion. The persecution of Zoroastrians by the early Muslims during and after this conflict prompted many of them to flee eastward to India, where they were granted refuge by various kings.\\nWhile Arabia was experiencing the rise of Islam in the 7th century, Persia was struggling with unprecedented levels of political, social, economic, and military weakness; the Sasanian army had greatly exhausted itself in the Byzantine–Sasanian War of 602–628. Following the execution of Sasanian shah Khosrow II in 628, Persia\\'s internal political stability began deteriorating at a rapid pace. Subsequently, ten new royal claimants were enthroned within the next four years. Shortly afterwards, Persia was further devastated by the Sasanian Interregnum, a large-scale civil war that began in 628 and resulted in the government\\'s decentralization by 632.\\nAmidst Persia\\'s turmoil, the first Rashidun invasion of Sasanian territory took place in 633, when the Rashidun army conquered parts of Asoristan, which was the Sasanians\\' political and economic centre in Mesopotamia. Later, the regional Rashidun army commander Khalid ibn al-Walid was transferred to oversee the Muslim conquest of the Levant, and as the Rashidun army became increasingly focused on the Byzantine Empire, the newly conquered Mesopotamian territories were retaken by the Sasanian army. The second Rashidun invasion began in 636, under Sa\\'d ibn Abi Waqqas, when a key victory at the Battle of al-Qadisiyyah permanently ended all Sasanian control to the west of modern-day Iran. For the next six years, the Zagros Mountains, a natural barrier, marked the political boundary between the Rashidun Caliphate and the Sasanian Empire. In 642, Umar ibn al-Khattab, eight years into his reign as Islam\\'s second caliph, ordered a full-scale invasion of the rest of the Sasanian Empire. Directing the war from the city of Medina in Arabia, Umar\\'s quick conquest of Persia in a series of coordinated and multi-pronged attacks became his greatest triumph, contributing to his reputation as a great military and political strategist. In 644, however, he was assassinated by the Persian craftsman Abu Lu\\'lu\\'a Firuz, who had been captured by Rashidun troops and brought to Arabia as a slave.\\nSome Iranian historians have defended their forebears by using Arab sources to illustrate that \"contrary to the claims of some historians, Iranians, in fact, fought long and hard against the invading Arabs.\" By 651, most of the urban centres in Iranian lands, with the notable exception of the provinces along the Caspian Sea (i.e., in Tabaristan and Transoxiana), had come under Muslim domination. Many localities fought against the invaders; although the Rashidun army had established hegemony over most of the country, many cities rose in rebellion by killing their Arab governors or attacking their garrisons. Eventually, military reinforcements quashed the Iranian insurgencies and imposed complete control. The Islamization of Iran was gradual and incentivized in various ways over a period of centuries, though some Iranians never converted and there is widespread evidence of Zoroastrian scriptures and all other Pre-Islamic being systematically burnt and Zoroastrian priests being executed, particularly in areas that were centers of resistance. Islam had become Iran\\'s predominant religion by the Late Middle Ages; the majority of Iranians were Sunni Muslims until the Safavids forcefully converted Iran to Shia Islam in the 18th century.\\n\\n', 'source': 'https://en.wikipedia.org/wiki/Muslim_conquest_of_Persia'}, page_content='The Muslim conquest of Persia, also called the Muslim conquest of Iran, the Arab conquest of Persia, or the Arab conquest of Iran, was a major military campaign undertaken by the Rashidun Caliphate between 632 and 654. As part of the early Muslim conquests, which had begun under Muhammad in 622, it led to the fall of the Sasanian Empire and the eventual decline of Zoroastrianism, which had been predominant throughout Persia as the nation\\'s official religion. The persecution of Zoroastrians by the early Muslims during and after this conflict prompted many of them to flee eastward to India, where they were granted refuge by various kings.\\nWhile Arabia was experiencing the rise of Islam in the 7th century, Persia was struggling with unprecedented levels of political, social, economic, and military weakness; the Sasanian army had greatly exhausted itself in the Byzantine–Sasanian War of 602–628. Following the execution of Sasanian shah Khosrow II in 628, Persia\\'s internal political stability began deteriorating at a rapid pace. Subsequently, ten new royal claimants were enthroned within the next four years. Shortly afterwards, Persia was further devastated by the Sasanian Interregnum, a large-scale civil war that began in 628 and resulted in the government\\'s decentralization by 632.\\nAmidst Persia\\'s turmoil, the first Rashidun invasion of Sasanian territory took place in 633, when the Rashidun army conquered parts of Asoristan, which was the Sasanians\\' political and economic centre in Mesopotamia. Later, the regional Rashidun army commander Khalid ibn al-Walid was transferred to oversee the Muslim conquest of the Levant, and as the Rashidun army became increasingly focused on the Byzantine Empire, the newly conquered Mesopotamian territories were retaken by the Sasanian army. The second Rashidun invasion began in 636, under Sa\\'d ibn Abi Waqqas, when a key victory at the Battle of al-Qadisiyyah permanently ended all Sasanian control to the west of modern-day Iran. For the next six years, the Zagros Mountains, a natural barrier, marked the political boundary between the Rashidun Caliphate and the Sasanian Empire. In 642, Umar ibn al-Khattab, eight years into his reign as Islam\\'s second caliph, ordered a full-scale invasion of the rest of the Sasanian Empire. Directing the war from the city of Medina in Arabia, Umar\\'s quick conquest of Persia in a series of coordinated and multi-pronged attacks became his greatest triumph, contributing to his reputation as a great military and political strategist. In 644, however, he was assassinated by the Persian craftsman Abu Lu\\'lu\\'a Firuz, who had been captured by Rashidun troops and brought to Arabia as a slave.\\nSome Iranian historians have defended their forebears by using Arab sources to illustrate that \"contrary to the claims of some historians, Iranians, in fact, fought long and hard against the invading Arabs.\" By 651, most of the urban centres in Iranian lands, with the notable exception of the provinces along the Caspian Sea (i.e., in Tabaristan and Transoxiana), had come under Muslim domination. Many localities fought against the invaders; although the Rashidun army had established hegemony over most of the country, many cities rose in rebellion by killing their Arab governors or attacking their garrisons. Eventually, military reinforcements quashed the Iranian insurgencies and imposed complete control. The Islamization of Iran was gradual and incentivized in various ways over a period of centuries, though some Iranians never converted and there is widespread evidence of Zoroastrian scriptures and all other Pre-Islamic being systematically burnt and Zoroastrian priests being executed, particularly in areas that were centers of resistance. Islam had become Iran\\'s predominant religion by the Late Middle Ages; the majority of Iranians were Sunni Muslims until the Safavids forcefully converted Iran to Shia Islam in the 18th century.\\n\\n\\n== Historiography and recent scholarship ==\\n\\nWhen Western'),\n",
              " Document(metadata={'title': 'AhmadiPedia', 'summary': 'AhmadiPedia (; a portmanteau of \"The Ahmadiyya Encyclopaedia\") is an online encyclopedia dedicated to the study of the Worldwide Ahmadiyya Muslim Community. It is edited and maintained by the Ahmadiyya Archive & Research Centre (ARC) and is an official publication of the Ahmadiyya Muslim Jamaat.\\n\\n', 'source': 'https://en.wikipedia.org/wiki/AhmadiPedia'}, page_content='AhmadiPedia (; a portmanteau of \"The Ahmadiyya Encyclopaedia\") is an online encyclopedia dedicated to the study of the Worldwide Ahmadiyya Muslim Community. It is edited and maintained by the Ahmadiyya Archive & Research Centre (ARC) and is an official publication of the Ahmadiyya Muslim Jamaat.\\n\\n\\n== Background ==\\nAccording to the curator at ARC, \"a need was felt that a resource is created where Ahmadis and even non-Ahmadis could search for information about the Ahmadiyya Muslim Jamaat.\" Hence, AhmadiPedia was launched.\\n\\n\\n== Launch ==\\n\\nAhmadiPedia was launched on 2 July 2021 by Hazrat Mirza Masroor Ahmad, the fifth worldwide head of the Ahmadiyya Muslim Jamaat, after the Friday prayers. Announcing the launch during his Friday sermon, he stated: I would like to make an announcement and that is that an Ahmadiyya Encyclopaedia has been created and will be launched today; it has been prepared by the Central Ahmadiyya Archive & Research Centre.\\nThey began work on it some time ago and now, by the grace of Allah the Almighty, this website is being made available... It is available on www.ahmadipedia.org, where a homepage containing a search engine will open and can be used to search for information...\\n\\n\\n== Content ==\\nAhmadiPedia is edited by a team of editors at the ARC which draws on the primary sources of the Ahmadiyya Muslim Community for its content. The encyclopedia entries give concise information but provide links and references to the Community\\'s literature for further study.\\nUsers have also been given the option to provide material via the \\'contribute\\' page, which is then edited and uploaded to the website by the editors.\\n\\n\\n== Censorship of AhmadiPedia ==\\nPakistan Telecommunication Authority (PTA) regularly blocks content from Ahmadiyya websites, including AhmadiPedia.org. Hence, just over a month into its launch, AhmadiPedia was blocked in Pakistan.\\n\\n\\n== References ==\\n\\n\\n== External links ==\\nFriday Sermon mentioning the launch of AhmadiPedia\\nKhalifa Launches AhmadiPedia (MTA International news report via YouTube)\\nAn introduction to AhmadiPedia (YouTube)\\nAl Hakam news report on the launch of AhmadiPedia')]"
            ]
          },
          "metadata": {},
          "execution_count": 19
        }
      ]
    },
    {
      "cell_type": "code",
      "source": [
        "from langchain.text_splitter import TokenTextSplitter\n",
        "text_splitter = TokenTextSplitter(chunk_size=512, chunk_overlap=24)\n",
        "documents = text_splitter.split_documents(raw_documents[:3])"
      ],
      "metadata": {
        "id": "5ChZ008I6paW"
      },
      "execution_count": 20,
      "outputs": []
    },
    {
      "cell_type": "code",
      "source": [
        "from langchain_openai import ChatOpenAI\n",
        "llm=ChatOpenAI(temperature=0, model_name=\"gpt-3.5-turbo-0125\")"
      ],
      "metadata": {
        "id": "IMh_IpRb78rs"
      },
      "execution_count": 21,
      "outputs": []
    },
    {
      "cell_type": "code",
      "source": [
        "from langchain_experimental.graph_transformers import LLMGraphTransformer\n",
        "llm_transformer = LLMGraphTransformer(llm=llm)"
      ],
      "metadata": {
        "id": "Mer51fZA9pa1"
      },
      "execution_count": 22,
      "outputs": []
    },
    {
      "cell_type": "code",
      "source": [
        "graph_documents = llm_transformer.convert_to_graph_documents(documents)"
      ],
      "metadata": {
        "id": "pZP64uFM9vLk"
      },
      "execution_count": 23,
      "outputs": []
    },
    {
      "cell_type": "code",
      "source": [
        "graph_documents"
      ],
      "metadata": {
        "colab": {
          "base_uri": "https://localhost:8080/"
        },
        "id": "3Nwjd5yR92VE",
        "outputId": "660f9740-68eb-43c8-e178-f6fa2ccb2635"
      },
      "execution_count": 24,
      "outputs": [
        {
          "output_type": "execute_result",
          "data": {
            "text/plain": [
              "[GraphDocument(nodes=[Node(id='Umar Ibn Al-Khattab', type='Person'), Node(id='Abu Bakr', type='Person'), Node(id='Muhammad', type='Person'), Node(id='Sasanian Empire', type='Empire'), Node(id='Byzantine Empire', type='Empire'), Node(id='Kaaba', type='Place'), Node(id='Persia', type='Country'), Node(id='Jerusalem', type='City'), Node(id=\"Abu Lu'Lu'A Firuz\", type='Person')], relationships=[Relationship(source=Node(id='Umar Ibn Al-Khattab', type='Person'), target=Node(id='Abu Bakr', type='Person'), type='SUCCESSOR'), Relationship(source=Node(id='Umar Ibn Al-Khattab', type='Person'), target=Node(id='Muhammad', type='Person'), type='FATHER-IN-LAW'), Relationship(source=Node(id='Umar Ibn Al-Khattab', type='Person'), target=Node(id='Kaaba', type='Place'), type='PRAYED_AT'), Relationship(source=Node(id='Umar Ibn Al-Khattab', type='Person'), target=Node(id='Sasanian Empire', type='Empire'), type='CONQUERED'), Relationship(source=Node(id='Umar Ibn Al-Khattab', type='Person'), target=Node(id='Byzantine Empire', type='Empire'), type='CONQUERED'), Relationship(source=Node(id='Umar Ibn Al-Khattab', type='Person'), target=Node(id='Persia', type='Country'), type='CONQUERED'), Relationship(source=Node(id='Umar Ibn Al-Khattab', type='Person'), target=Node(id='Jerusalem', type='City'), type='ALLOWED_ACCESS_TO'), Relationship(source=Node(id='Umar Ibn Al-Khattab', type='Person'), target=Node(id=\"Abu Lu'Lu'A Firuz\", type='Person'), type='ASSASSINATED')], source=Document(metadata={'title': 'Umar', 'summary': \"Umar ibn al-Khattab (Arabic: عُمَر بْن ٱلْخَطَّاب, romanized: ʿUmar ibn al-Khaṭṭāb; c.\\u2009582/583 – 644), also spelled Omar, was the second Rashidun caliph, ruling from August 634, when he succeeded Abu Bakr (r.\\u2009632–634) as the second caliph, until his assassination in 644. Umar was a senior companion and father-in-law of the Islamic prophet Muhammad.\\nUmar initially opposed Muhammad, his distant Qurayshite kinsman and later son-in-law. Following his conversion to Islam in 616, he became the first Muslim to openly pray at the Kaaba. Umar participated in almost all battles and expeditions under Muhammad, who bestowed the title al-Fārūq upon him, for his judgements. After Muhammad's death in June 632, Umar pledged allegiance to Abu Bakr (r.\\u2009632–634) as the first caliph and served as the closest adviser to the latter until August 634, when the dying Abu Bakr nominated Umar as his successor.\\nUnder Umar, the caliphate expanded at an unprecedented rate, conquering the Sasanian Empire and more than two-thirds of the Byzantine Empire. His attacks against the Sasanian Empire resulted in the conquest of Persia in less than two years (642–644). According to Jewish tradition, Umar set aside the Christian ban on Jews and allowed them into Jerusalem and to worship. Umar was assassinated by the Persian slave Abu Lu'lu'a Firuz in 644.\\nUmar is generally viewed by historians to be one of the most powerful and influential Muslim caliphs in history. He is revered in the Sunni Islamic tradition as a great just ruler and paragon of Islamic virtues, and some hadiths identify him as the second greatest of the Sahabah after Abu Bakr. However, he is viewed negatively in the Twelver Shia tradition.\", 'source': 'https://en.wikipedia.org/wiki/Umar'}, page_content=\"Umar ibn al-Khattab (Arabic: عُمَر بْن ٱلْخَطَّاب, romanized: ʿUmar ibn al-Khaṭṭāb; c.\\u2009582/583 – 644), also spelled Omar, was the second Rashidun caliph, ruling from August 634, when he succeeded Abu Bakr (r.\\u2009632–634) as the second caliph, until his assassination in 644. Umar was a senior companion and father-in-law of the Islamic prophet Muhammad.\\nUmar initially opposed Muhammad, his distant Qurayshite kinsman and later son-in-law. Following his conversion to Islam in 616, he became the first Muslim to openly pray at the Kaaba. Umar participated in almost all battles and expeditions under Muhammad, who bestowed the title al-Fārūq upon him, for his judgements. After Muhammad's death in June 632, Umar pledged allegiance to Abu Bakr (r.\\u2009632–634) as the first caliph and served as the closest adviser to the latter until August 634, when the dying Abu Bakr nominated Umar as his successor.\\nUnder Umar, the caliphate expanded at an unprecedented rate, conquering the Sasanian Empire and more than two-thirds of the Byzantine Empire. His attacks against the Sasanian Empire resulted in the conquest of Persia in less than two years (642–644). According to Jewish tradition, Umar set aside the Christian ban on Jews and allowed them into Jerusalem and to worship. Umar was assassinated by the Persian slave Abu Lu'lu'a Firuz in 644.\\nUmar is generally viewed by historians to be one of the most powerful and influential Muslim caliphs in history. He is revered in the Sunni Islamic tradition as a great just ruler and paragon of Islamic virtues, and some hadiths identify him as the second greatest of the Sahabah after Abu Bakr. However, he is viewed negatively in the Twelver Shia tradition.\\n\\n\\n== Early life ==\\nUmar was born in Mecca to the Banu Adi clan, which was responsible for arbitration among the tribes. His father was Khattab ibn Nufayl and his mother was Hantama bint Hisham, from the tribe of Banu Makhzum. In his youth he\")),\n",
              " GraphDocument(nodes=[Node(id='Hantama Bint Hisham', type='Person'), Node(id='Banu Makhzum', type='Tribe'), Node(id='Mecca', type='Location'), Node(id='Umar', type='Person'), Node(id='Quraish', type='Tribe'), Node(id='Rome', type='Location'), Node(id='Persia', type='Location'), Node(id='Scholars', type='Person'), Node(id='Abyssinia', type='Location'), Node(id='Muhammad', type='Person'), Node(id=\"Nu'Aym Ibn Abd Allah\", type='Person')], relationships=[Relationship(source=Node(id='Hantama Bint Hisham', type='Person'), target=Node(id='Banu Makhzum', type='Tribe'), type='BELONGS_TO'), Relationship(source=Node(id='Hantama Bint Hisham', type='Person'), target=Node(id='Mecca', type='Location'), type='LIVED_IN'), Relationship(source=Node(id='Umar', type='Person'), target=Node(id='Hantama Bint Hisham', type='Person'), type='FAMILY'), Relationship(source=Node(id='Umar', type='Person'), target=Node(id='Quraish', type='Tribe'), type='BELONGS_TO'), Relationship(source=Node(id='Umar', type='Person'), target=Node(id='Rome', type='Location'), type='VISITED'), Relationship(source=Node(id='Umar', type='Person'), target=Node(id='Persia', type='Location'), type='VISITED'), Relationship(source=Node(id='Umar', type='Person'), target=Node(id='Scholars', type='Person'), type='MET'), Relationship(source=Node(id='Umar', type='Person'), target=Node(id='Abyssinia', type='Location'), type='VISITED'), Relationship(source=Node(id='Umar', type='Person'), target=Node(id='Muhammad', type='Person'), type='OPPOSED_TO'), Relationship(source=Node(id='Umar', type='Person'), target=Node(id=\"Nu'Aym Ibn Abd Allah\", type='Person'), type='FRIEND')], source=Document(metadata={'title': 'Umar', 'summary': \"Umar ibn al-Khattab (Arabic: عُمَر بْن ٱلْخَطَّاب, romanized: ʿUmar ibn al-Khaṭṭāb; c.\\u2009582/583 – 644), also spelled Omar, was the second Rashidun caliph, ruling from August 634, when he succeeded Abu Bakr (r.\\u2009632–634) as the second caliph, until his assassination in 644. Umar was a senior companion and father-in-law of the Islamic prophet Muhammad.\\nUmar initially opposed Muhammad, his distant Qurayshite kinsman and later son-in-law. Following his conversion to Islam in 616, he became the first Muslim to openly pray at the Kaaba. Umar participated in almost all battles and expeditions under Muhammad, who bestowed the title al-Fārūq upon him, for his judgements. After Muhammad's death in June 632, Umar pledged allegiance to Abu Bakr (r.\\u2009632–634) as the first caliph and served as the closest adviser to the latter until August 634, when the dying Abu Bakr nominated Umar as his successor.\\nUnder Umar, the caliphate expanded at an unprecedented rate, conquering the Sasanian Empire and more than two-thirds of the Byzantine Empire. His attacks against the Sasanian Empire resulted in the conquest of Persia in less than two years (642–644). According to Jewish tradition, Umar set aside the Christian ban on Jews and allowed them into Jerusalem and to worship. Umar was assassinated by the Persian slave Abu Lu'lu'a Firuz in 644.\\nUmar is generally viewed by historians to be one of the most powerful and influential Muslim caliphs in history. He is revered in the Sunni Islamic tradition as a great just ruler and paragon of Islamic virtues, and some hadiths identify him as the second greatest of the Sahabah after Abu Bakr. However, he is viewed negatively in the Twelver Shia tradition.\", 'source': 'https://en.wikipedia.org/wiki/Umar'}, page_content=' Hantama bint Hisham, from the tribe of Banu Makhzum. In his youth he used to tend to his father\\'s camels in the plains near Mecca. His merchant father was famed for his intelligence among his tribe. Umar himself said: \"My father, al-Khattab, was a ruthless man. He used to make me work hard; if I didn\\'t work he used to beat me and he used to work me to exhaustion.\"\\nDespite literacy being uncommon in pre-Islamic Arabia, Umar learned to read and write in his youth. Though not a poet himself, he developed a love for poetry and literature. According to the tradition of Quraish, while still in his teenage years, Umar learned martial arts, horse riding and wrestling. He was tall, physically powerful and a renowned wrestler. He was also a gifted orator who succeeded his father as an arbitrator among the tribes.\\nUmar became a merchant and made several journeys to Rome and Persia, where he is said to have met various scholars and analyzed Roman and Persian societies. As a merchant he was unsuccessful. Like others around him, Umar was fond of drinking in his pre-Islamic days.\\n\\n\\n== Early military career ==\\n\\n\\n=== Opposition to Islam ===\\nIn 610, Muhammad started preaching the message of Islam. However, like many others in Mecca, Umar opposed Islam and even threatened to kill Muhammad. He resolved to defend the traditional polytheistic religion of Arabia. He was adamant and cruel in opposing Muhammad, and very prominent in persecuting Muslims. He recommended Muhammad\\'s death. He firmly believed in the unity of the Quraish and saw the new faith of Islam as a cause of division and discord.\\nDue to persecution, Muhammad ordered some of his followers to migrate to Abyssinia. When a small group of Muslims migrated, Umar became worried about the future unity of the Quraish and decided to have Muhammad assassinated.\\n\\n\\n=== Conversion to Islam and service under Muhammad ===\\nUmar converted to Islam in 616, one year after the Migration to Abyssinia.\\nThe story was recounted in Ibn Ishaq\\'s Sīrah. On his way to murder Muhammad, Umar met his best friend Nu\\'aym ibn Abd Allah who had secretly converted to Islam but had not to')),\n",
              " GraphDocument(nodes=[Node(id='Muslim Conquest Of Persia', type='Event'), Node(id='Muslim Conquest Of Iran', type='Event'), Node(id='Arab Conquest Of Persia', type='Event'), Node(id='Arab Conquest Of Iran', type='Event'), Node(id='Rashidun Caliphate', type='Empire'), Node(id='Sasanian Empire', type='Empire'), Node(id='Zoroastrianism', type='Religion'), Node(id='India', type='Country'), Node(id='Muhammad', type='Person'), Node(id='Khosrow Ii', type='Person'), Node(id='Khalid Ibn Al-Walid', type='Person'), Node(id=\"Sa'D Ibn Abi Waqqas\", type='Person'), Node(id='Umar Ibn Al-Khattab', type='Person')], relationships=[Relationship(source=Node(id='Muslim Conquest Of Persia', type='Event'), target=Node(id='Rashidun Caliphate', type='Empire'), type='UNDERTOOK'), Relationship(source=Node(id='Muslim Conquest Of Persia', type='Event'), target=Node(id='Sasanian Empire', type='Empire'), type='CONQUERED'), Relationship(source=Node(id='Muslim Conquest Of Persia', type='Event'), target=Node(id='Zoroastrianism', type='Religion'), type='RESULTED_IN_DECLINE'), Relationship(source=Node(id='Muslim Conquest Of Persia', type='Event'), target=Node(id='India', type='Country'), type='FLED_TO'), Relationship(source=Node(id='Muslim Conquest Of Persia', type='Event'), target=Node(id='Zoroastrians', type='Religion'), type='PERSECUTED'), Relationship(source=Node(id='Arab Conquest Of Persia', type='Event'), target=Node(id='Rashidun Caliphate', type='Empire'), type='UNDERTOOK'), Relationship(source=Node(id='Arab Conquest Of Persia', type='Event'), target=Node(id='Sasanian Empire', type='Empire'), type='CONQUERED'), Relationship(source=Node(id='Arab Conquest Of Persia', type='Event'), target=Node(id='Zoroastrianism', type='Religion'), type='RESULTED_IN_DECLINE'), Relationship(source=Node(id='Arab Conquest Of Persia', type='Event'), target=Node(id='India', type='Country'), type='FLED_TO'), Relationship(source=Node(id='Arab Conquest Of Persia', type='Event'), target=Node(id='Zoroastrians', type='Religion'), type='PERSECUTED'), Relationship(source=Node(id='Rashidun Caliphate', type='Empire'), target=Node(id='Muslim Conquest Of Persia', type='Event'), type='UNDERTOOK'), Relationship(source=Node(id='Rashidun Caliphate', type='Empire'), target=Node(id='Muslim Conquest Of Iran', type='Event'), type='UNDERTOOK'), Relationship(source=Node(id='Rashidun Caliphate', type='Empire'), target=Node(id='Arab Conquest Of Persia', type='Event'), type='UNDERTOOK'), Relationship(source=Node(id='Rashidun Caliphate', type='Empire'), target=Node(id='Arab Conquest Of Iran', type='Event'), type='UNDERTOOK'), Relationship(source=Node(id='Sasanian Empire', type='Empire'), target=Node(id='Muslim Conquest Of Persia', type='Event'), type='CONQUERED'), Relationship(source=Node(id='Sasanian Empire', type='Empire'), target=Node(id='Arab Conquest Of Persia', type='Event'), type='CONQUERED'), Relationship(source=Node(id='Zoroastrianism', type='Religion'), target=Node(id='Muslim Conquest Of Persia', type='Event'), type='RESULTED_IN_DECLINE'), Relationship(source=Node(id='Zoroastrianism', type='Religion'), target=Node(id='Arab Conquest Of Persia', type='Event'), type='RESULTED_IN_DECLINE'), Relationship(source=Node(id='India', type='Country'), target=Node(id='Muslim Conquest Of Persia', type='Event'), type='FLED_TO'), Relationship(source=Node(id='India', type='Country'), target=Node(id='Arab Conquest Of Persia', type='Event'), type='FLED_TO'), Relationship(source=Node(id='Zoroastrians', type='Religion'), target=Node(id='Muslim Conquest Of Persia', type='Event'), type='PERSECUTED'), Relationship(source=Node(id='Zoroastrians', type='Religion'), target=Node(id='Arab Conquest Of Persia', type='Event'), type='PERSECUTED'), Relationship(source=Node(id='Muhammad', type='Person'), target=Node(id='Muslim Conquest Of Persia', type='Event'), type='BEGAN_UNDER'), Relationship(source=Node(id='Khosrow Ii', type='Person'), target=Node(id='Sasanian Empire', type='Empire'), type='EXECUTED'), Relationship(source=Node(id='Khalid Ibn Al-Walid', type='Person'), target=Node(id='Muslim Conquest Of Persia', type='Event'), type='COMMANDED'), Relationship(source=Node(id='Khalid Ibn Al-Walid', type='Person'), target=Node(id='Levant', type='Region'), type='TRANSFERRED_TO'), Relationship(source=Node(id=\"Sa'D Ibn Abi Waqqas\", type='Person'), target=Node(id='Muslim Conquest Of Persia', type='Event'), type='COMMANDED'), Relationship(source=Node(id=\"Sa'D Ibn Abi Waqqas\", type='Person'), target=Node(id='Battle Of Al-Qadisiyyah', type='Event'), type='KEY_VICTORY_AT'), Relationship(source=Node(id='Umar Ibn Al-Khattab', type='Person'), target=Node(id='Muslim Conquest Of Persia', type='Event'), type='ORDERED_INVASION')], source=Document(metadata={'title': 'Muslim conquest of Persia', 'summary': 'The Muslim conquest of Persia, also called the Muslim conquest of Iran, the Arab conquest of Persia, or the Arab conquest of Iran, was a major military campaign undertaken by the Rashidun Caliphate between 632 and 654. As part of the early Muslim conquests, which had begun under Muhammad in 622, it led to the fall of the Sasanian Empire and the eventual decline of Zoroastrianism, which had been predominant throughout Persia as the nation\\'s official religion. The persecution of Zoroastrians by the early Muslims during and after this conflict prompted many of them to flee eastward to India, where they were granted refuge by various kings.\\nWhile Arabia was experiencing the rise of Islam in the 7th century, Persia was struggling with unprecedented levels of political, social, economic, and military weakness; the Sasanian army had greatly exhausted itself in the Byzantine–Sasanian War of 602–628. Following the execution of Sasanian shah Khosrow II in 628, Persia\\'s internal political stability began deteriorating at a rapid pace. Subsequently, ten new royal claimants were enthroned within the next four years. Shortly afterwards, Persia was further devastated by the Sasanian Interregnum, a large-scale civil war that began in 628 and resulted in the government\\'s decentralization by 632.\\nAmidst Persia\\'s turmoil, the first Rashidun invasion of Sasanian territory took place in 633, when the Rashidun army conquered parts of Asoristan, which was the Sasanians\\' political and economic centre in Mesopotamia. Later, the regional Rashidun army commander Khalid ibn al-Walid was transferred to oversee the Muslim conquest of the Levant, and as the Rashidun army became increasingly focused on the Byzantine Empire, the newly conquered Mesopotamian territories were retaken by the Sasanian army. The second Rashidun invasion began in 636, under Sa\\'d ibn Abi Waqqas, when a key victory at the Battle of al-Qadisiyyah permanently ended all Sasanian control to the west of modern-day Iran. For the next six years, the Zagros Mountains, a natural barrier, marked the political boundary between the Rashidun Caliphate and the Sasanian Empire. In 642, Umar ibn al-Khattab, eight years into his reign as Islam\\'s second caliph, ordered a full-scale invasion of the rest of the Sasanian Empire. Directing the war from the city of Medina in Arabia, Umar\\'s quick conquest of Persia in a series of coordinated and multi-pronged attacks became his greatest triumph, contributing to his reputation as a great military and political strategist. In 644, however, he was assassinated by the Persian craftsman Abu Lu\\'lu\\'a Firuz, who had been captured by Rashidun troops and brought to Arabia as a slave.\\nSome Iranian historians have defended their forebears by using Arab sources to illustrate that \"contrary to the claims of some historians, Iranians, in fact, fought long and hard against the invading Arabs.\" By 651, most of the urban centres in Iranian lands, with the notable exception of the provinces along the Caspian Sea (i.e., in Tabaristan and Transoxiana), had come under Muslim domination. Many localities fought against the invaders; although the Rashidun army had established hegemony over most of the country, many cities rose in rebellion by killing their Arab governors or attacking their garrisons. Eventually, military reinforcements quashed the Iranian insurgencies and imposed complete control. The Islamization of Iran was gradual and incentivized in various ways over a period of centuries, though some Iranians never converted and there is widespread evidence of Zoroastrian scriptures and all other Pre-Islamic being systematically burnt and Zoroastrian priests being executed, particularly in areas that were centers of resistance. Islam had become Iran\\'s predominant religion by the Late Middle Ages; the majority of Iranians were Sunni Muslims until the Safavids forcefully converted Iran to Shia Islam in the 18th century.\\n\\n', 'source': 'https://en.wikipedia.org/wiki/Muslim_conquest_of_Persia'}, page_content=\"The Muslim conquest of Persia, also called the Muslim conquest of Iran, the Arab conquest of Persia, or the Arab conquest of Iran, was a major military campaign undertaken by the Rashidun Caliphate between 632 and 654. As part of the early Muslim conquests, which had begun under Muhammad in 622, it led to the fall of the Sasanian Empire and the eventual decline of Zoroastrianism, which had been predominant throughout Persia as the nation's official religion. The persecution of Zoroastrians by the early Muslims during and after this conflict prompted many of them to flee eastward to India, where they were granted refuge by various kings.\\nWhile Arabia was experiencing the rise of Islam in the 7th century, Persia was struggling with unprecedented levels of political, social, economic, and military weakness; the Sasanian army had greatly exhausted itself in the Byzantine–Sasanian War of 602–628. Following the execution of Sasanian shah Khosrow II in 628, Persia's internal political stability began deteriorating at a rapid pace. Subsequently, ten new royal claimants were enthroned within the next four years. Shortly afterwards, Persia was further devastated by the Sasanian Interregnum, a large-scale civil war that began in 628 and resulted in the government's decentralization by 632.\\nAmidst Persia's turmoil, the first Rashidun invasion of Sasanian territory took place in 633, when the Rashidun army conquered parts of Asoristan, which was the Sasanians' political and economic centre in Mesopotamia. Later, the regional Rashidun army commander Khalid ibn al-Walid was transferred to oversee the Muslim conquest of the Levant, and as the Rashidun army became increasingly focused on the Byzantine Empire, the newly conquered Mesopotamian territories were retaken by the Sasanian army. The second Rashidun invasion began in 636, under Sa'd ibn Abi Waqqas, when a key victory at the Battle of al-Qadisiyyah permanently ended all Sasanian control to the west of modern-day Iran. For the next six years, the Zagros Mountains, a natural barrier, marked the political boundary between the Rashidun Caliphate and the Sasanian Empire. In 642, Umar ibn al-Khattab, eight years into his reign as Islam's second caliph, ordered a full-scale invasion of the rest of the Sasanian Empire. Directing the war from the city\")),\n",
              " GraphDocument(nodes=[Node(id='Umar', type='Person'), Node(id='Medina', type='Location'), Node(id='Persia', type='Location'), Node(id='Arabia', type='Location'), Node(id=\"Abu Lu'Lu'A Firuz\", type='Person'), Node(id='Rashidun Troops', type='Group'), Node(id='Iranians', type='Person'), Node(id='Persian Craftsman', type='Person'), Node(id=\"Abu Lu'Lu'A Firuz\", type='Person'), Node(id='Tabaristan', type='Location'), Node(id='Transoxiana', type='Location'), Node(id='Zoroastrian Priests', type='Person'), Node(id='Safavids', type='Group')], relationships=[Relationship(source=Node(id='Umar', type='Person'), target=Node(id='Medina', type='Location'), type='DIRECTED_WAR'), Relationship(source=Node(id='Umar', type='Person'), target=Node(id='Persia', type='Location'), type='CONQUERED'), Relationship(source=Node(id='Umar', type='Person'), target=Node(id='Arabia', type='Location'), type='WAR_DIRECTION'), Relationship(source=Node(id='Umar', type='Person'), target=Node(id=\"Abu Lu'Lu'A Firuz\", type='Person'), type='ASSASSINATED'), Relationship(source=Node(id='Persian Craftsman', type='Person'), target=Node(id=\"Abu Lu'Lu'A Firuz\", type='Person'), type='CAPTURED'), Relationship(source=Node(id='Iranians', type='Person'), target=Node(id='Arab', type='Location'), type='FOUGHT_AGAINST'), Relationship(source=Node(id='Rashidun Troops', type='Group'), target=Node(id='Iranians', type='Person'), type='CAPTURED'), Relationship(source=Node(id='Iranians', type='Person'), target=Node(id='Arabia', type='Location'), type='SLAVE'), Relationship(source=Node(id='Iranians', type='Person'), target=Node(id='Tabaristan', type='Location'), type='RESISTANCE_CENTER'), Relationship(source=Node(id='Iranians', type='Person'), target=Node(id='Transoxiana', type='Location'), type='RESISTANCE_CENTER'), Relationship(source=Node(id='Zoroastrian Priests', type='Person'), target=Node(id='Iranians', type='Person'), type='EXECUTED'), Relationship(source=Node(id='Safavids', type='Group'), target=Node(id='Iran', type='Location'), type='CONVERTED_TO_SHIA_ISLAM')], source=Document(metadata={'title': 'Muslim conquest of Persia', 'summary': 'The Muslim conquest of Persia, also called the Muslim conquest of Iran, the Arab conquest of Persia, or the Arab conquest of Iran, was a major military campaign undertaken by the Rashidun Caliphate between 632 and 654. As part of the early Muslim conquests, which had begun under Muhammad in 622, it led to the fall of the Sasanian Empire and the eventual decline of Zoroastrianism, which had been predominant throughout Persia as the nation\\'s official religion. The persecution of Zoroastrians by the early Muslims during and after this conflict prompted many of them to flee eastward to India, where they were granted refuge by various kings.\\nWhile Arabia was experiencing the rise of Islam in the 7th century, Persia was struggling with unprecedented levels of political, social, economic, and military weakness; the Sasanian army had greatly exhausted itself in the Byzantine–Sasanian War of 602–628. Following the execution of Sasanian shah Khosrow II in 628, Persia\\'s internal political stability began deteriorating at a rapid pace. Subsequently, ten new royal claimants were enthroned within the next four years. Shortly afterwards, Persia was further devastated by the Sasanian Interregnum, a large-scale civil war that began in 628 and resulted in the government\\'s decentralization by 632.\\nAmidst Persia\\'s turmoil, the first Rashidun invasion of Sasanian territory took place in 633, when the Rashidun army conquered parts of Asoristan, which was the Sasanians\\' political and economic centre in Mesopotamia. Later, the regional Rashidun army commander Khalid ibn al-Walid was transferred to oversee the Muslim conquest of the Levant, and as the Rashidun army became increasingly focused on the Byzantine Empire, the newly conquered Mesopotamian territories were retaken by the Sasanian army. The second Rashidun invasion began in 636, under Sa\\'d ibn Abi Waqqas, when a key victory at the Battle of al-Qadisiyyah permanently ended all Sasanian control to the west of modern-day Iran. For the next six years, the Zagros Mountains, a natural barrier, marked the political boundary between the Rashidun Caliphate and the Sasanian Empire. In 642, Umar ibn al-Khattab, eight years into his reign as Islam\\'s second caliph, ordered a full-scale invasion of the rest of the Sasanian Empire. Directing the war from the city of Medina in Arabia, Umar\\'s quick conquest of Persia in a series of coordinated and multi-pronged attacks became his greatest triumph, contributing to his reputation as a great military and political strategist. In 644, however, he was assassinated by the Persian craftsman Abu Lu\\'lu\\'a Firuz, who had been captured by Rashidun troops and brought to Arabia as a slave.\\nSome Iranian historians have defended their forebears by using Arab sources to illustrate that \"contrary to the claims of some historians, Iranians, in fact, fought long and hard against the invading Arabs.\" By 651, most of the urban centres in Iranian lands, with the notable exception of the provinces along the Caspian Sea (i.e., in Tabaristan and Transoxiana), had come under Muslim domination. Many localities fought against the invaders; although the Rashidun army had established hegemony over most of the country, many cities rose in rebellion by killing their Arab governors or attacking their garrisons. Eventually, military reinforcements quashed the Iranian insurgencies and imposed complete control. The Islamization of Iran was gradual and incentivized in various ways over a period of centuries, though some Iranians never converted and there is widespread evidence of Zoroastrian scriptures and all other Pre-Islamic being systematically burnt and Zoroastrian priests being executed, particularly in areas that were centers of resistance. Islam had become Iran\\'s predominant religion by the Late Middle Ages; the majority of Iranians were Sunni Muslims until the Safavids forcefully converted Iran to Shia Islam in the 18th century.\\n\\n', 'source': 'https://en.wikipedia.org/wiki/Muslim_conquest_of_Persia'}, page_content='iph, ordered a full-scale invasion of the rest of the Sasanian Empire. Directing the war from the city of Medina in Arabia, Umar\\'s quick conquest of Persia in a series of coordinated and multi-pronged attacks became his greatest triumph, contributing to his reputation as a great military and political strategist. In 644, however, he was assassinated by the Persian craftsman Abu Lu\\'lu\\'a Firuz, who had been captured by Rashidun troops and brought to Arabia as a slave.\\nSome Iranian historians have defended their forebears by using Arab sources to illustrate that \"contrary to the claims of some historians, Iranians, in fact, fought long and hard against the invading Arabs.\" By 651, most of the urban centres in Iranian lands, with the notable exception of the provinces along the Caspian Sea (i.e., in Tabaristan and Transoxiana), had come under Muslim domination. Many localities fought against the invaders; although the Rashidun army had established hegemony over most of the country, many cities rose in rebellion by killing their Arab governors or attacking their garrisons. Eventually, military reinforcements quashed the Iranian insurgencies and imposed complete control. The Islamization of Iran was gradual and incentivized in various ways over a period of centuries, though some Iranians never converted and there is widespread evidence of Zoroastrian scriptures and all other Pre-Islamic being systematically burnt and Zoroastrian priests being executed, particularly in areas that were centers of resistance. Islam had become Iran\\'s predominant religion by the Late Middle Ages; the majority of Iranians were Sunni Muslims until the Safavids forcefully converted Iran to Shia Islam in the 18th century.\\n\\n\\n== Historiography and recent scholarship ==\\n\\nWhen Western')),\n",
              " GraphDocument(nodes=[Node(id='Ahmadipedia', type='Online encyclopedia'), Node(id='Ahmadiyya Muslim Community', type='Religious community'), Node(id='Ahmadiyya Archive & Research Centre (Arc)', type='Organization'), Node(id='Hazrat Mirza Masroor Ahmad', type='Religious leader'), Node(id='Central Ahmadiyya Archive & Research Centre', type='Organization'), Node(id='Pakistan Telecommunication Authority (Pta)', type='Government agency')], relationships=[Relationship(source=Node(id='Ahmadipedia', type='Online encyclopedia'), target=Node(id='Ahmadiyya Muslim Community', type='Religious community'), type='FOCUSES_ON'), Relationship(source=Node(id='Ahmadipedia', type='Online encyclopedia'), target=Node(id='Ahmadiyya Archive & Research Centre (Arc)', type='Organization'), type='EDITED_AND_MAINTAINED_BY'), Relationship(source=Node(id='Ahmadipedia', type='Online encyclopedia'), target=Node(id='Hazrat Mirza Masroor Ahmad', type='Religious leader'), type='LAUNCHED_BY'), Relationship(source=Node(id='Ahmadipedia', type='Online encyclopedia'), target=Node(id='Central Ahmadiyya Archive & Research Centre', type='Organization'), type='PREPARED_BY'), Relationship(source=Node(id='Ahmadipedia', type='Online encyclopedia'), target=Node(id='Pakistan Telecommunication Authority (Pta)', type='Government agency'), type='BLOCKED_BY')], source=Document(metadata={'title': 'AhmadiPedia', 'summary': 'AhmadiPedia (; a portmanteau of \"The Ahmadiyya Encyclopaedia\") is an online encyclopedia dedicated to the study of the Worldwide Ahmadiyya Muslim Community. It is edited and maintained by the Ahmadiyya Archive & Research Centre (ARC) and is an official publication of the Ahmadiyya Muslim Jamaat.\\n\\n', 'source': 'https://en.wikipedia.org/wiki/AhmadiPedia'}, page_content='AhmadiPedia (; a portmanteau of \"The Ahmadiyya Encyclopaedia\") is an online encyclopedia dedicated to the study of the Worldwide Ahmadiyya Muslim Community. It is edited and maintained by the Ahmadiyya Archive & Research Centre (ARC) and is an official publication of the Ahmadiyya Muslim Jamaat.\\n\\n\\n== Background ==\\nAccording to the curator at ARC, \"a need was felt that a resource is created where Ahmadis and even non-Ahmadis could search for information about the Ahmadiyya Muslim Jamaat.\" Hence, AhmadiPedia was launched.\\n\\n\\n== Launch ==\\n\\nAhmadiPedia was launched on 2 July 2021 by Hazrat Mirza Masroor Ahmad, the fifth worldwide head of the Ahmadiyya Muslim Jamaat, after the Friday prayers. Announcing the launch during his Friday sermon, he stated: I would like to make an announcement and that is that an Ahmadiyya Encyclopaedia has been created and will be launched today; it has been prepared by the Central Ahmadiyya Archive & Research Centre.\\nThey began work on it some time ago and now, by the grace of Allah the Almighty, this website is being made available... It is available on www.ahmadipedia.org, where a homepage containing a search engine will open and can be used to search for information...\\n\\n\\n== Content ==\\nAhmadiPedia is edited by a team of editors at the ARC which draws on the primary sources of the Ahmadiyya Muslim Community for its content. The encyclopedia entries give concise information but provide links and references to the Community\\'s literature for further study.\\nUsers have also been given the option to provide material via the \\'contribute\\' page, which is then edited and uploaded to the website by the editors.\\n\\n\\n== Censorship of AhmadiPedia ==\\nPakistan Telecommunication Authority (PTA) regularly blocks content from Ahmadiyya websites, including AhmadiPedia.org. Hence, just over a month into its launch, AhmadiPedia was blocked in Pakistan.\\n\\n\\n== References ==\\n\\n\\n== External links ==\\nFriday Sermon mentioning the launch of AhmadiPedia\\nKhalifa Launches AhmadiPedia (MTA International news report via YouTube)\\nAn introduction to AhmadiPedia (YouTube)\\nAl Hakam news report on the launch of AhmadiPedia'))]"
            ]
          },
          "metadata": {},
          "execution_count": 24
        }
      ]
    },
    {
      "cell_type": "code",
      "source": [
        "graph.add_graph_documents(\n",
        "    graph_documents,\n",
        "    baseEntityLabel=True,\n",
        "    include_source=True\n",
        ")"
      ],
      "metadata": {
        "id": "ib_g3U1d97th"
      },
      "execution_count": 25,
      "outputs": []
    },
    {
      "cell_type": "code",
      "source": [
        "# directly show the graph resulting from the given Cypher query\n",
        "default_cypher = \"MATCH (s)-[r:!MENTIONS]->(t) RETURN s,r,t LIMIT 50\""
      ],
      "metadata": {
        "id": "rC-4O5FQ99yH"
      },
      "execution_count": 26,
      "outputs": []
    },
    {
      "cell_type": "code",
      "source": [
        "from yfiles_jupyter_graphs import GraphWidget\n",
        "from neo4j import GraphDatabase"
      ],
      "metadata": {
        "id": "K-91BluK_62t"
      },
      "execution_count": null,
      "outputs": []
    },
    {
      "cell_type": "code",
      "source": [
        "try:\n",
        "  import google.colab\n",
        "  from google.colab import output\n",
        "  output.enable_custom_widget_manager()\n",
        "except:\n",
        "  pass"
      ],
      "metadata": {
        "id": "djVL6Gh4_4sV"
      },
      "execution_count": 27,
      "outputs": []
    },
    {
      "cell_type": "code",
      "source": [
        "def showGraph(cypher: str = default_cypher):\n",
        "    # create a neo4j session to run queries\n",
        "    driver = GraphDatabase.driver(\n",
        "        uri = os.environ[\"NEO4J_URI\"],\n",
        "        auth = (os.environ[\"NEO4J_USERNAME\"],\n",
        "                os.environ[\"NEO4J_PASSWORD\"]))\n",
        "    session = driver.session()\n",
        "    widget = GraphWidget(graph = session.run(cypher).graph())\n",
        "    widget.node_label_mapping = 'id'\n",
        "    display(widget)\n",
        "    return widget"
      ],
      "metadata": {
        "id": "0Ll2WNnO-Ahf"
      },
      "execution_count": 28,
      "outputs": []
    },
    {
      "cell_type": "code",
      "source": [
        "showGraph()"
      ],
      "metadata": {
        "colab": {
          "base_uri": "https://localhost:8080/",
          "height": 1000,
          "referenced_widgets": [
            "b4b540c38b7f4e81877b5566f8f3e4c7",
            "090eaa8f84954dfe94f0e345e726d307"
          ]
        },
        "id": "kz-O4c0k-C_4",
        "outputId": "b77771f0-c6dc-4b2e-88d0-d8e2e57cad69"
      },
      "execution_count": 29,
      "outputs": [
        {
          "output_type": "display_data",
          "data": {
            "text/plain": [
              "GraphWidget(layout=Layout(height='800px', width='100%'))"
            ],
            "application/vnd.jupyter.widget-view+json": {
              "version_major": 2,
              "version_minor": 0,
              "model_id": "b4b540c38b7f4e81877b5566f8f3e4c7"
            }
          },
          "metadata": {
            "application/vnd.jupyter.widget-view+json": {
              "colab": {
                "custom_widget_manager": {
                  "url": "https://ssl.gstatic.com/colaboratory-static/widgets/colab-cdn-widget-manager/2b70e893a8ba7c0f/manager.min.js"
                }
              }
            }
          }
        },
        {
          "output_type": "display_data",
          "data": {
            "text/plain": [
              "GraphWidget(layout=Layout(height='800px', width='100%'))"
            ],
            "application/vnd.jupyter.widget-view+json": {
              "version_major": 2,
              "version_minor": 0,
              "model_id": "b4b540c38b7f4e81877b5566f8f3e4c7"
            }
          },
          "metadata": {
            "application/vnd.jupyter.widget-view+json": {
              "colab": {
                "custom_widget_manager": {
                  "url": "https://ssl.gstatic.com/colaboratory-static/widgets/colab-cdn-widget-manager/2b70e893a8ba7c0f/manager.min.js"
                }
              }
            }
          }
        }
      ]
    },
    {
      "cell_type": "code",
      "source": [
        "from typing import Tuple, List, Optional"
      ],
      "metadata": {
        "id": "zHSkb7LeBghn"
      },
      "execution_count": 30,
      "outputs": []
    },
    {
      "cell_type": "code",
      "source": [
        "from langchain_community.vectorstores import Neo4jVector"
      ],
      "metadata": {
        "id": "TuDVi4vHBjXP"
      },
      "execution_count": 31,
      "outputs": []
    },
    {
      "cell_type": "code",
      "source": [
        "from langchain_openai import OpenAIEmbeddings\n",
        "vector_index = Neo4jVector.from_existing_graph(\n",
        "    OpenAIEmbeddings(),\n",
        "    search_type=\"hybrid\",\n",
        "    node_label=\"Document\",\n",
        "    text_node_properties=[\"text\"],\n",
        "    embedding_node_property=\"embedding\"\n",
        ")"
      ],
      "metadata": {
        "id": "M_JloAimBlcK"
      },
      "execution_count": 32,
      "outputs": []
    },
    {
      "cell_type": "code",
      "source": [
        "graph.query(\"CREATE FULLTEXT INDEX entity IF NOT EXISTS FOR (e:__Entity__) ON EACH [e.id]\")"
      ],
      "metadata": {
        "colab": {
          "base_uri": "https://localhost:8080/"
        },
        "id": "e0EXdSStG-Oe",
        "outputId": "62eb211a-3e57-4df2-ff32-5ad2f169fcc6"
      },
      "execution_count": 33,
      "outputs": [
        {
          "output_type": "execute_result",
          "data": {
            "text/plain": [
              "[]"
            ]
          },
          "metadata": {},
          "execution_count": 33
        }
      ]
    },
    {
      "cell_type": "code",
      "source": [
        "from langchain_core.pydantic_v1 import BaseModel, Field\n",
        "# Extract entities from text\n",
        "class Entities(BaseModel):\n",
        "    \"\"\"Identifying information about entities.\"\"\"\n",
        "\n",
        "    names: List[str] = Field(\n",
        "        ...,\n",
        "        description=\"All the person, organization, or business entities that \"\n",
        "        \"appear in the text\",\n",
        "    )\n"
      ],
      "metadata": {
        "id": "qksArGKrAvie"
      },
      "execution_count": 34,
      "outputs": []
    },
    {
      "cell_type": "code",
      "source": [
        "from langchain_core.prompts import ChatPromptTemplate\n",
        "from langchain_core.prompts.prompt import PromptTemplate"
      ],
      "metadata": {
        "id": "Mx6sfpgRBrs-"
      },
      "execution_count": 35,
      "outputs": []
    },
    {
      "cell_type": "code",
      "source": [
        "prompt = ChatPromptTemplate.from_messages(\n",
        "    [\n",
        "        (\n",
        "            \"system\",\n",
        "            \"You are extracting organization and person entities from the text.\",\n",
        "        ),\n",
        "        (\n",
        "            \"human\",\n",
        "            \"Use the given format to extract information from the following \"\n",
        "            \"input: {question}\",\n",
        "        ),\n",
        "    ]\n",
        ")"
      ],
      "metadata": {
        "id": "xUobRC1wAx-_"
      },
      "execution_count": 36,
      "outputs": []
    },
    {
      "cell_type": "code",
      "source": [
        "entity_chain = prompt | llm.with_structured_output(Entities)"
      ],
      "metadata": {
        "id": "KGR6ocjkA0I_"
      },
      "execution_count": 37,
      "outputs": []
    },
    {
      "cell_type": "code",
      "source": [
        "entity_chain.invoke({\"question\": \"Where was Umar born?\"}).names"
      ],
      "metadata": {
        "colab": {
          "base_uri": "https://localhost:8080/"
        },
        "id": "xPLkIEmkA2R2",
        "outputId": "6921fbc7-db83-459b-e7ab-b145a581952a"
      },
      "execution_count": 39,
      "outputs": [
        {
          "output_type": "execute_result",
          "data": {
            "text/plain": [
              "['Umar']"
            ]
          },
          "metadata": {},
          "execution_count": 39
        }
      ]
    },
    {
      "cell_type": "code",
      "source": [
        "from langchain_community.vectorstores.neo4j_vector import remove_lucene_chars"
      ],
      "metadata": {
        "id": "RpbOzL5BA6hW"
      },
      "execution_count": 40,
      "outputs": []
    },
    {
      "cell_type": "code",
      "source": [
        "def generate_full_text_query(input: str) -> str:\n",
        "    full_text_query = \"\"\n",
        "    words = [el for el in remove_lucene_chars(input).split() if el]\n",
        "    for word in words[:-1]:\n",
        "        full_text_query += f\" {word}~2 AND\"\n",
        "    full_text_query += f\" {words[-1]}~2\"\n",
        "    return full_text_query.strip()\n"
      ],
      "metadata": {
        "id": "7gHCkvGKA86t"
      },
      "execution_count": 41,
      "outputs": []
    },
    {
      "cell_type": "code",
      "source": [
        "# Fulltext index query\n",
        "def structured_retriever(question: str) -> str:\n",
        "    result = \"\"\n",
        "    entities = entity_chain.invoke({\"question\": question})\n",
        "    for entity in entities.names:\n",
        "        response = graph.query(\n",
        "            \"\"\"CALL db.index.fulltext.queryNodes('entity', $query, {limit:2})\n",
        "            YIELD node,score\n",
        "            CALL {\n",
        "              WITH node\n",
        "              MATCH (node)-[r:!MENTIONS]->(neighbor)\n",
        "              RETURN node.id + ' - ' + type(r) + ' -> ' + neighbor.id AS output\n",
        "              UNION ALL\n",
        "              WITH node\n",
        "              MATCH (node)<-[r:!MENTIONS]-(neighbor)\n",
        "              RETURN neighbor.id + ' - ' + type(r) + ' -> ' +  node.id AS output\n",
        "            }\n",
        "            RETURN output LIMIT 50\n",
        "            \"\"\",\n",
        "            {\"query\": generate_full_text_query(entity)},\n",
        "        )\n",
        "        result += \"\\n\".join([el['output'] for el in response])\n",
        "    return result"
      ],
      "metadata": {
        "id": "kjPkmFJbA_lv"
      },
      "execution_count": 42,
      "outputs": []
    },
    {
      "cell_type": "code",
      "source": [
        "print(structured_retriever(\"Who is Omar I?\"))"
      ],
      "metadata": {
        "colab": {
          "base_uri": "https://localhost:8080/"
        },
        "id": "nIla9QpzBA8u",
        "outputId": "3ae61594-ebd3-4135-a88c-02390f7f2b78"
      },
      "execution_count": 43,
      "outputs": [
        {
          "output_type": "stream",
          "name": "stdout",
          "text": [
            "Umar Ibn Al-Khattab - SUCCESSOR -> Abu Bakr\n",
            "Umar Ibn Al-Khattab - FATHER-IN-LAW -> Muhammad\n",
            "Umar Ibn Al-Khattab - PRAYED_AT -> Kaaba\n",
            "Umar Ibn Al-Khattab - CONQUERED -> Sasanian Empire\n",
            "Umar Ibn Al-Khattab - CONQUERED -> Byzantine Empire\n",
            "Umar Ibn Al-Khattab - CONQUERED -> Persia\n",
            "Umar Ibn Al-Khattab - ALLOWED_ACCESS_TO -> Jerusalem\n",
            "Umar Ibn Al-Khattab - ASSASSINATED -> Abu Lu'Lu'A Firuz\n",
            "Umar Ibn Al-Khattab - ORDERED_INVASION -> Muslim Conquest Of Persia\n"
          ]
        }
      ]
    },
    {
      "cell_type": "code",
      "source": [
        "def retriever(question: str):\n",
        "    print(f\"Search query: {question}\")\n",
        "    structured_data = structured_retriever(question)\n",
        "    unstructured_data = [el.page_content for el in vector_index.similarity_search(question)]\n",
        "    final_data = f\"\"\"Structured data:\n",
        "{structured_data}\n",
        "Unstructured data:\n",
        "{\"#Document \". join(unstructured_data)}\n",
        "    \"\"\"\n",
        "    return final_data"
      ],
      "metadata": {
        "id": "Zo1QoB_iBDfO"
      },
      "execution_count": 44,
      "outputs": []
    },
    {
      "cell_type": "code",
      "source": [
        "_template = \"\"\"Given the following conversation and a follow up question, rephrase the follow up question to be a standalone question,\n",
        "in its original language.\n",
        "Chat History:\n",
        "{chat_history}\n",
        "Follow Up Input: {question}\n",
        "Standalone question:\"\"\""
      ],
      "metadata": {
        "id": "nDLnOXBTBFaf"
      },
      "execution_count": 45,
      "outputs": []
    },
    {
      "cell_type": "code",
      "source": [
        "CONDENSE_QUESTION_PROMPT = PromptTemplate.from_template(_template)"
      ],
      "metadata": {
        "id": "hozfZicpBG2G"
      },
      "execution_count": 46,
      "outputs": []
    },
    {
      "cell_type": "code",
      "source": [
        "def _format_chat_history(chat_history: List[Tuple[str, str]]) -> List:\n",
        "    buffer = []\n",
        "    for human, ai in chat_history:\n",
        "        buffer.append(HumanMessage(content=human))\n",
        "        buffer.append(AIMessage(content=ai))\n",
        "    return buffer"
      ],
      "metadata": {
        "id": "A9Oi3AEeBIPf"
      },
      "execution_count": 47,
      "outputs": []
    },
    {
      "cell_type": "code",
      "source": [
        "_search_query = RunnableBranch(\n",
        "    # If input includes chat_history, we condense it with the follow-up question\n",
        "    (\n",
        "        RunnableLambda(lambda x: bool(x.get(\"chat_history\"))).with_config(\n",
        "            run_name=\"HasChatHistoryCheck\"\n",
        "        ),  # Condense follow-up question and chat into a standalone_question\n",
        "        RunnablePassthrough.assign(\n",
        "            chat_history=lambda x: _format_chat_history(x[\"chat_history\"])\n",
        "        )\n",
        "        | CONDENSE_QUESTION_PROMPT\n",
        "        | ChatOpenAI(temperature=0)\n",
        "        | StrOutputParser(),\n",
        "    ),\n",
        "    # Else, we have no chat history, so just pass through the question\n",
        "    RunnableLambda(lambda x : x[\"question\"]),\n",
        ")"
      ],
      "metadata": {
        "id": "vXV65bjDBJwO"
      },
      "execution_count": 48,
      "outputs": []
    },
    {
      "cell_type": "code",
      "source": [
        "template = \"\"\"Answer the question based only on the following context:\n",
        "{context}\n",
        "\n",
        "Question: {question}\n",
        "Use natural language and be concise.\n",
        "Answer:\"\"\""
      ],
      "metadata": {
        "id": "zuVyoD1iBLgt"
      },
      "execution_count": 49,
      "outputs": []
    },
    {
      "cell_type": "code",
      "source": [
        "prompt = ChatPromptTemplate.from_template(template)"
      ],
      "metadata": {
        "id": "ehex9TRGBM4m"
      },
      "execution_count": 50,
      "outputs": []
    },
    {
      "cell_type": "code",
      "source": [
        "chain = (\n",
        "    RunnableParallel(\n",
        "        {\n",
        "            \"context\": _search_query | retriever,\n",
        "            \"question\": RunnablePassthrough(),\n",
        "        }\n",
        "    )\n",
        "    | prompt\n",
        "    | llm\n",
        "    | StrOutputParser()\n",
        ")"
      ],
      "metadata": {
        "id": "UI6LVwkpBOOA"
      },
      "execution_count": 51,
      "outputs": []
    },
    {
      "cell_type": "code",
      "source": [
        "chain.invoke({\"question\": \"Which house did Omar I belong to?\"})"
      ],
      "metadata": {
        "colab": {
          "base_uri": "https://localhost:8080/",
          "height": 53
        },
        "id": "GZAq-jz3BOrn",
        "outputId": "1066e494-7be8-49dd-d448-d34ef8f65b28"
      },
      "execution_count": 53,
      "outputs": [
        {
          "output_type": "stream",
          "name": "stdout",
          "text": [
            "Search query: Which house did Omar I belong to?\n"
          ]
        },
        {
          "output_type": "execute_result",
          "data": {
            "text/plain": [
              "'Omar I belonged to the Banu Adi clan.'"
            ],
            "application/vnd.google.colaboratory.intrinsic+json": {
              "type": "string"
            }
          },
          "metadata": {},
          "execution_count": 53
        }
      ]
    },
    {
      "cell_type": "code",
      "source": [
        "chain.invoke(\n",
        "    {\n",
        "        \"question\": \"When was he born?\",\n",
        "        \"chat_history\": [(\"Which house did Omar I belong to?\", \"House Of Tudor\")],\n",
        "    }\n",
        ")"
      ],
      "metadata": {
        "colab": {
          "base_uri": "https://localhost:8080/",
          "height": 53
        },
        "id": "b8bO9V_MIBZ5",
        "outputId": "234d7164-fec7-4034-c268-65c52579884f"
      },
      "execution_count": 54,
      "outputs": [
        {
          "output_type": "stream",
          "name": "stdout",
          "text": [
            "Search query: When was Omar I born?\n"
          ]
        },
        {
          "output_type": "execute_result",
          "data": {
            "text/plain": [
              "'Umar Ibn Al-Khattab was born around 582/583.'"
            ],
            "application/vnd.google.colaboratory.intrinsic+json": {
              "type": "string"
            }
          },
          "metadata": {},
          "execution_count": 54
        }
      ]
    },
    {
      "cell_type": "code",
      "source": [],
      "metadata": {
        "id": "qyIlAGROIUKC"
      },
      "execution_count": null,
      "outputs": []
    }
  ]
}